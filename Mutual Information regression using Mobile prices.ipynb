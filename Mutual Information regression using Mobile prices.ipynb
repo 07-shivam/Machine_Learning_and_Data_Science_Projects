{
 "cells": [
  {
   "cell_type": "code",
   "execution_count": 1,
   "id": "d5463710-9906-4d66-841f-80a915d361e5",
   "metadata": {
    "tags": []
   },
   "outputs": [],
   "source": [
    "import pandas as pd"
   ]
  },
  {
   "cell_type": "code",
   "execution_count": 2,
   "id": "8705145a-b4f7-4d36-bf8d-e77d736a6366",
   "metadata": {
    "tags": []
   },
   "outputs": [],
   "source": [
    "data = pd.read_csv(\"mobile_prices_2023.csv\")"
   ]
  },
  {
   "cell_type": "code",
   "execution_count": 3,
   "id": "35c64e92-f7d5-4235-a216-c6625d6660b9",
   "metadata": {
    "tags": []
   },
   "outputs": [
    {
     "data": {
      "text/html": [
       "<div>\n",
       "<style scoped>\n",
       "    .dataframe tbody tr th:only-of-type {\n",
       "        vertical-align: middle;\n",
       "    }\n",
       "\n",
       "    .dataframe tbody tr th {\n",
       "        vertical-align: top;\n",
       "    }\n",
       "\n",
       "    .dataframe thead th {\n",
       "        text-align: right;\n",
       "    }\n",
       "</style>\n",
       "<table border=\"1\" class=\"dataframe\">\n",
       "  <thead>\n",
       "    <tr style=\"text-align: right;\">\n",
       "      <th></th>\n",
       "      <th>Phone Name</th>\n",
       "      <th>Rating ?/5</th>\n",
       "      <th>Number of Ratings</th>\n",
       "      <th>RAM</th>\n",
       "      <th>ROM/Storage</th>\n",
       "      <th>Back/Rare Camera</th>\n",
       "      <th>Front Camera</th>\n",
       "      <th>Battery</th>\n",
       "      <th>Processor</th>\n",
       "      <th>Price in INR</th>\n",
       "      <th>Date of Scraping</th>\n",
       "    </tr>\n",
       "  </thead>\n",
       "  <tbody>\n",
       "    <tr>\n",
       "      <th>0</th>\n",
       "      <td>POCO C50 (Royal Blue, 32 GB)</td>\n",
       "      <td>4.2</td>\n",
       "      <td>33,561</td>\n",
       "      <td>2 GB RAM</td>\n",
       "      <td>32 GB ROM</td>\n",
       "      <td>8MP Dual Camera</td>\n",
       "      <td>5MP Front Camera</td>\n",
       "      <td>5000 mAh</td>\n",
       "      <td>Mediatek Helio A22 Processor, Upto 2.0 GHz Pro...</td>\n",
       "      <td>₹5,649</td>\n",
       "      <td>2023-06-17</td>\n",
       "    </tr>\n",
       "    <tr>\n",
       "      <th>1</th>\n",
       "      <td>POCO M4 5G (Cool Blue, 64 GB)</td>\n",
       "      <td>4.2</td>\n",
       "      <td>77,128</td>\n",
       "      <td>4 GB RAM</td>\n",
       "      <td>64 GB ROM</td>\n",
       "      <td>50MP + 2MP</td>\n",
       "      <td>8MP Front Camera</td>\n",
       "      <td>5000 mAh</td>\n",
       "      <td>Mediatek Dimensity 700 Processor</td>\n",
       "      <td>₹11,999</td>\n",
       "      <td>2023-06-17</td>\n",
       "    </tr>\n",
       "    <tr>\n",
       "      <th>2</th>\n",
       "      <td>POCO C51 (Royal Blue, 64 GB)</td>\n",
       "      <td>4.3</td>\n",
       "      <td>15,175</td>\n",
       "      <td>4 GB RAM</td>\n",
       "      <td>64 GB ROM</td>\n",
       "      <td>8MP Dual Rear Camera</td>\n",
       "      <td>5MP Front Camera</td>\n",
       "      <td>5000 mAh</td>\n",
       "      <td>Helio G36 Processor</td>\n",
       "      <td>₹6,999</td>\n",
       "      <td>2023-06-17</td>\n",
       "    </tr>\n",
       "    <tr>\n",
       "      <th>3</th>\n",
       "      <td>POCO C55 (Cool Blue, 64 GB)</td>\n",
       "      <td>4.2</td>\n",
       "      <td>22,621</td>\n",
       "      <td>4 GB RAM</td>\n",
       "      <td>64 GB ROM</td>\n",
       "      <td>50MP Dual Rear Camera</td>\n",
       "      <td>5MP Front Camera</td>\n",
       "      <td>5000 mAh</td>\n",
       "      <td>Mediatek Helio G85 Processor</td>\n",
       "      <td>₹7,749</td>\n",
       "      <td>2023-06-17</td>\n",
       "    </tr>\n",
       "    <tr>\n",
       "      <th>4</th>\n",
       "      <td>POCO C51 (Power Black, 64 GB)</td>\n",
       "      <td>4.3</td>\n",
       "      <td>15,175</td>\n",
       "      <td>4 GB RAM</td>\n",
       "      <td>64 GB ROM</td>\n",
       "      <td>8MP Dual Rear Camera</td>\n",
       "      <td>5MP Front Camera</td>\n",
       "      <td>5000 mAh</td>\n",
       "      <td>Helio G36 Processor</td>\n",
       "      <td>₹6,999</td>\n",
       "      <td>2023-06-17</td>\n",
       "    </tr>\n",
       "  </tbody>\n",
       "</table>\n",
       "</div>"
      ],
      "text/plain": [
       "                      Phone Name  Rating ?/5 Number of Ratings       RAM  \\\n",
       "0   POCO C50 (Royal Blue, 32 GB)         4.2            33,561  2 GB RAM   \n",
       "1  POCO M4 5G (Cool Blue, 64 GB)         4.2            77,128  4 GB RAM   \n",
       "2   POCO C51 (Royal Blue, 64 GB)         4.3            15,175  4 GB RAM   \n",
       "3    POCO C55 (Cool Blue, 64 GB)         4.2            22,621  4 GB RAM   \n",
       "4  POCO C51 (Power Black, 64 GB)         4.3            15,175  4 GB RAM   \n",
       "\n",
       "  ROM/Storage       Back/Rare Camera      Front Camera   Battery  \\\n",
       "0   32 GB ROM        8MP Dual Camera  5MP Front Camera  5000 mAh   \n",
       "1   64 GB ROM             50MP + 2MP  8MP Front Camera  5000 mAh   \n",
       "2   64 GB ROM   8MP Dual Rear Camera  5MP Front Camera  5000 mAh   \n",
       "3   64 GB ROM  50MP Dual Rear Camera  5MP Front Camera  5000 mAh   \n",
       "4   64 GB ROM   8MP Dual Rear Camera  5MP Front Camera  5000 mAh   \n",
       "\n",
       "                                           Processor Price in INR  \\\n",
       "0  Mediatek Helio A22 Processor, Upto 2.0 GHz Pro...       ₹5,649   \n",
       "1                   Mediatek Dimensity 700 Processor      ₹11,999   \n",
       "2                                Helio G36 Processor       ₹6,999   \n",
       "3                       Mediatek Helio G85 Processor       ₹7,749   \n",
       "4                                Helio G36 Processor       ₹6,999   \n",
       "\n",
       "  Date of Scraping  \n",
       "0       2023-06-17  \n",
       "1       2023-06-17  \n",
       "2       2023-06-17  \n",
       "3       2023-06-17  \n",
       "4       2023-06-17  "
      ]
     },
     "execution_count": 3,
     "metadata": {},
     "output_type": "execute_result"
    }
   ],
   "source": [
    "data.head()"
   ]
  },
  {
   "cell_type": "code",
   "execution_count": 7,
   "id": "08cdf4a8-27f1-414e-ae7a-c6a80eda5f0f",
   "metadata": {
    "tags": []
   },
   "outputs": [],
   "source": [
    "## Changing all the columns one by one to int or float"
   ]
  },
  {
   "cell_type": "code",
   "execution_count": 6,
   "id": "90d52953-3053-407d-882d-e8ef7c1f26b4",
   "metadata": {
    "tags": []
   },
   "outputs": [
    {
     "data": {
      "text/plain": [
       "(1836, 11)"
      ]
     },
     "execution_count": 6,
     "metadata": {},
     "output_type": "execute_result"
    }
   ],
   "source": [
    "data.shape"
   ]
  },
  {
   "cell_type": "code",
   "execution_count": 19,
   "id": "1ae96111-77c4-4aac-ba99-f63417bbab8c",
   "metadata": {
    "tags": []
   },
   "outputs": [
    {
     "data": {
      "text/plain": [
       "Rating ?/5             0\n",
       "Number of Ratings      0\n",
       "RAM                    0\n",
       "ROM/Storage          174\n",
       "Back/Rare Camera       9\n",
       "Front Camera         401\n",
       "Battery               10\n",
       "Processor             55\n",
       "Price in INR           0\n",
       "dtype: int64"
      ]
     },
     "execution_count": 19,
     "metadata": {},
     "output_type": "execute_result"
    }
   ],
   "source": [
    "data.isnull().sum()"
   ]
  },
  {
   "cell_type": "code",
   "execution_count": 20,
   "id": "c02b3066-09b6-4408-940a-9fe22e00f3e0",
   "metadata": {
    "tags": []
   },
   "outputs": [],
   "source": [
    "data=data.dropna()"
   ]
  },
  {
   "cell_type": "code",
   "execution_count": 21,
   "id": "95755d67-a71d-483d-affd-cc4669255515",
   "metadata": {
    "tags": []
   },
   "outputs": [
    {
     "data": {
      "text/plain": [
       "(1291, 9)"
      ]
     },
     "execution_count": 21,
     "metadata": {},
     "output_type": "execute_result"
    }
   ],
   "source": [
    "data.shape"
   ]
  },
  {
   "cell_type": "code",
   "execution_count": 8,
   "id": "9436f935-fa7e-4666-9b7d-73e7feb7cab9",
   "metadata": {
    "tags": []
   },
   "outputs": [
    {
     "data": {
      "text/plain": [
       "Index(['Phone Name', 'Rating ?/5', 'Number of Ratings', 'RAM', 'ROM/Storage',\n",
       "       'Back/Rare Camera', 'Front Camera', 'Battery', 'Processor',\n",
       "       'Price in INR', 'Date of Scraping'],\n",
       "      dtype='object')"
      ]
     },
     "execution_count": 8,
     "metadata": {},
     "output_type": "execute_result"
    }
   ],
   "source": [
    "data.columns"
   ]
  },
  {
   "cell_type": "code",
   "execution_count": 9,
   "id": "a05a8594-5440-4a21-baa3-4c6a3f397a83",
   "metadata": {
    "tags": []
   },
   "outputs": [],
   "source": [
    "## Since phone name and date of scraping does not have any effect on price. Dropping them"
   ]
  },
  {
   "cell_type": "code",
   "execution_count": 10,
   "id": "78583634-322a-4c8a-ad82-0474ecfa908e",
   "metadata": {
    "tags": []
   },
   "outputs": [],
   "source": [
    "drop_column = [\"Phone Name\",'Date of Scraping']\n",
    "data.drop(drop_column, axis = 1, inplace = True)"
   ]
  },
  {
   "cell_type": "code",
   "execution_count": 11,
   "id": "1162954c-7b4b-40cb-be0f-524a1341e86b",
   "metadata": {
    "tags": []
   },
   "outputs": [
    {
     "data": {
      "text/plain": [
       "Index(['Rating ?/5', 'Number of Ratings', 'RAM', 'ROM/Storage',\n",
       "       'Back/Rare Camera', 'Front Camera', 'Battery', 'Processor',\n",
       "       'Price in INR'],\n",
       "      dtype='object')"
      ]
     },
     "execution_count": 11,
     "metadata": {},
     "output_type": "execute_result"
    }
   ],
   "source": [
    "data.columns"
   ]
  },
  {
   "cell_type": "code",
   "execution_count": 12,
   "id": "03e2a475-7a2d-41a2-ba60-5863ca4c5e87",
   "metadata": {
    "tags": []
   },
   "outputs": [],
   "source": [
    "data['Price in INR'] = data['Price in INR'].str.replace(\"₹\",\"\")"
   ]
  },
  {
   "cell_type": "code",
   "execution_count": 13,
   "id": "47de2033-f6b6-4b3e-a560-b7e63b3cb4a9",
   "metadata": {
    "tags": []
   },
   "outputs": [
    {
     "data": {
      "text/plain": [
       "0        5,649\n",
       "1       11,999\n",
       "2        6,999\n",
       "3        7,749\n",
       "4        6,999\n",
       "         ...  \n",
       "1831    14,999\n",
       "1832    14,999\n",
       "1833    14,999\n",
       "1834    18,999\n",
       "1835    10,999\n",
       "Name: Price in INR, Length: 1836, dtype: object"
      ]
     },
     "execution_count": 13,
     "metadata": {},
     "output_type": "execute_result"
    }
   ],
   "source": [
    "data['Price in INR']"
   ]
  },
  {
   "cell_type": "code",
   "execution_count": 14,
   "id": "b27ca93f-51ae-43d4-8ae2-e51c821c95dd",
   "metadata": {
    "tags": []
   },
   "outputs": [],
   "source": [
    "data['Price in INR'] = data['Price in INR'].str.replace(\",\",\"\")"
   ]
  },
  {
   "cell_type": "code",
   "execution_count": 15,
   "id": "8632f88b-d192-4417-a5e0-4f06956864f3",
   "metadata": {
    "tags": []
   },
   "outputs": [
    {
     "data": {
      "text/plain": [
       "0        5649\n",
       "1       11999\n",
       "2        6999\n",
       "3        7749\n",
       "4        6999\n",
       "        ...  \n",
       "1831    14999\n",
       "1832    14999\n",
       "1833    14999\n",
       "1834    18999\n",
       "1835    10999\n",
       "Name: Price in INR, Length: 1836, dtype: object"
      ]
     },
     "execution_count": 15,
     "metadata": {},
     "output_type": "execute_result"
    }
   ],
   "source": [
    "data['Price in INR']"
   ]
  },
  {
   "cell_type": "code",
   "execution_count": 16,
   "id": "5136d4bd-d806-489b-9eb6-6e69d3b1d4e3",
   "metadata": {
    "tags": []
   },
   "outputs": [],
   "source": [
    "data['Price in INR'] = data['Price in INR'].astype('float')"
   ]
  },
  {
   "cell_type": "code",
   "execution_count": 17,
   "id": "96a69bc5-1c4c-4a98-a4c1-6b7b29a0516e",
   "metadata": {
    "tags": []
   },
   "outputs": [
    {
     "data": {
      "text/plain": [
       "0        5649.0\n",
       "1       11999.0\n",
       "2        6999.0\n",
       "3        7749.0\n",
       "4        6999.0\n",
       "         ...   \n",
       "1831    14999.0\n",
       "1832    14999.0\n",
       "1833    14999.0\n",
       "1834    18999.0\n",
       "1835    10999.0\n",
       "Name: Price in INR, Length: 1836, dtype: float64"
      ]
     },
     "execution_count": 17,
     "metadata": {},
     "output_type": "execute_result"
    }
   ],
   "source": [
    "data['Price in INR']"
   ]
  },
  {
   "cell_type": "code",
   "execution_count": 18,
   "id": "514bb9d2-67f2-45ea-bc00-aa44e10546f0",
   "metadata": {
    "collapsed": true,
    "jupyter": {
     "outputs_hidden": true
    },
    "tags": []
   },
   "outputs": [
    {
     "data": {
      "text/plain": [
       "{'0 0 0 0 Processor Processor',\n",
       " '0 0 0 208MHz Processor',\n",
       " '0 0 Quad Core 1.3GHz Processor',\n",
       " '1 YEAR',\n",
       " '1 YEAR Brand warranty on phone, 6 months on accessories',\n",
       " '1 YEAR FOR DEVICE & SIX MONTH FOR INBOX ACCESSORIES',\n",
       " '1 YEAR ON MOBILE AND 6 MONTHS FOR ACCESORIES',\n",
       " '1 Year',\n",
       " '1 Year  Manufacturer Warranty',\n",
       " '1 Year Domestic Warranty for Phone and 6 Months Warranty for In-Box Accessories',\n",
       " '1 Year Manufacturer  Warranty',\n",
       " '1 Year Manufacturer Replacement Warranty',\n",
       " '1 Year Manufacturer Replacement warranty',\n",
       " '1 Year Manufacturer Warranty',\n",
       " '1 Year Manufacturer Warranty For Device and Battery and 6 Months Manufacturer Warranty for In-box Accessories From the Date of Purchase',\n",
       " '1 Year Manufacturer Warranty for Device and 6 Months Manufacturer Warranty for In-Box',\n",
       " '1 Year Manufacturer Warranty for Device and 6 Months Manufacturer Warranty for In-Box Accessories',\n",
       " '1 Year Manufacturer Warranty for Device and 6 Months Manufacturer Warranty for In-box Accessories Including Batteries from the Date of Purchase',\n",
       " '1 Year Manufacturer Warranty for Device and 6 Months Manufacturer Warranty for In-box Accessories Including Battery from the Date of Purchase',\n",
       " '1 Year Manufacturer Warranty for Handset and 6 Months Warranty for In the Box Accessories',\n",
       " '1 Year Manufacturer Warranty for Handset and 6 Months for Accessories',\n",
       " '1 Year Manufacturer Warranty for Phone and 6 Months Warranty for In-Box Accessories',\n",
       " '1 Year Replacement Warranty for Handset and 6 Months Guarantee for Accessories',\n",
       " '1 Year Warranty',\n",
       " '1 Year Warranty For Phone and 6 Months Warranty for in-box Accessories',\n",
       " '1 Year Warranty and 6 Months Warranty for In-Box',\n",
       " '1 Year Warranty for Phone and 6 Months Warranty for In-Box Accessories',\n",
       " '1 Year Warranty on Mobile Device and 6 months on Accessories',\n",
       " '1 Year for  handset ,6 months fro accessories',\n",
       " '1 Year for Handset and 6 Months for Inbox Accessories',\n",
       " '1 Year for Mobile & 6 Months Accessories Warranty',\n",
       " '1 Year for Mobile & 6 Months for Accessories',\n",
       " '1 Year for Mobile and 6 Months for Accessories',\n",
       " '1 Year of Device & 6 Months for In-Box Accessories',\n",
       " '1 Year on Handset and 6 Months On Accessories',\n",
       " '1 Yera',\n",
       " '1 year',\n",
       " '1 year Brand Warranty',\n",
       " '1 year Replacement Guarante',\n",
       " '1 year Warranty',\n",
       " '1 year domestic replacement guarantee',\n",
       " '1 year domestic replacement guarantee.',\n",
       " '1 year manufacturer warranty for device and 6 months manufacturer warranty for in-box accessories including batteries from the date of purchase',\n",
       " '1 year manufacturer warranty for device and 6 months manufacturer warranty for in-box accessories including battery',\n",
       " '1 year manufacturer warranty for device and 6 months manufacturer warranty for in-box accessories including battery from the date of purchase',\n",
       " '1 year on phone & 6 months on accessories',\n",
       " '1 year on phone & 6 months on box accessories of domestic only',\n",
       " '1 year replacement guarantee',\n",
       " '1 year warranty by brand',\n",
       " '1 year warranty on handset and 6 months warranty on the accessories.',\n",
       " '12 MONTHS',\n",
       " '12 Month',\n",
       " '12 Months',\n",
       " '12 Months Brand Warranty',\n",
       " '12 Months Warranty',\n",
       " '12 Months brand Warranty , Domestic Only',\n",
       " '12 month',\n",
       " '12 months',\n",
       " '12 months Warranty',\n",
       " '12 months on phone & 6 months on accessories',\n",
       " '12Months Brand Warranty',\n",
       " '18 MONTHS',\n",
       " '18 Months',\n",
       " '2.0 GHz Mediatek P22 Octacore Processor',\n",
       " '2nd-gen Snapdragon 615 64-bit octa-core Processor',\n",
       " 'Brand Warranty for 1 Year',\n",
       " 'Brand Warranty of 1 Year',\n",
       " 'Brand Warranty of 1 Year Available for Mobile',\n",
       " 'Brand Warranty of 1 Year Available for Mobile Including Battery and 6 Months for Accessories',\n",
       " 'Brand Warranty of 1 Year Available for Mobile and 6 Months for Accessories',\n",
       " 'Brand Warranty of 1 Year Available for Mobile and 6 Months for In-box Accessories',\n",
       " 'Brand Warranty of 1 Year Available for Mobile and Battery and 6 Months for Accessories',\n",
       " 'Brand Warranty of 18 Months Available for Mobile',\n",
       " 'Ceramic Shield',\n",
       " 'Cortex-A7 Processor',\n",
       " 'Dimensity 1080, Octa Core Processor',\n",
       " 'Dimensity 6020 Processor',\n",
       " 'Dimensity 720 5G Processor',\n",
       " 'Dimensity 8020 Processor',\n",
       " 'Dimensity 810 Processor',\n",
       " 'Dimensity 920 5G Processor Processor',\n",
       " 'Dimensity 9200 Processor',\n",
       " 'Domestic 1 Year of Device & 6 Months for In-Box Accessories',\n",
       " 'Domestic 1 Year on Handset and 6 Months on Accessories',\n",
       " 'Domestic Warranty of 12 Months on Phone & 6 Months on Accessories',\n",
       " 'Domestic Warranty of 12 months on phone & 6 months on accessories',\n",
       " 'Domestic warranty of 12 months on phone & 6 months on accessories',\n",
       " 'Domestic warranty of 12 months on phone & 6 months on accessries',\n",
       " 'Exynos 1280 Processor',\n",
       " 'Exynos 1330, Octa Core Processor',\n",
       " 'Exynos 1380, Octa Core Processor',\n",
       " 'Exynos 7870 Octa Core 1.6 GHz Processor',\n",
       " 'Exynos 7870 Processor',\n",
       " 'Exynos 850 (S5E3830) Processor',\n",
       " 'Exynos 850 Octa Core Processor',\n",
       " 'Exynos 850 Processor',\n",
       " 'Exynos 9610 Processor',\n",
       " 'Exynos 9810 Processor',\n",
       " 'Exynos 9825 Processor',\n",
       " 'Exynos Octa Core Processor',\n",
       " 'Exynos Octa Core Processor Processor',\n",
       " 'G37 Processor',\n",
       " 'Google Tensor G2 Processor',\n",
       " 'Google Tensor Processor',\n",
       " 'HUAWEI Kirin 955 ARM Cortex-A72 64-bit + ARM Cortex-A53 64-bit Octa Core 2.5GHz Processor',\n",
       " 'HUAWEI Kirin 955 ARM Cortex-A72 64-bit + ARM Cortex-A53 64-bit Processor',\n",
       " 'Helio G36 Processor',\n",
       " 'Helio G85 Processor',\n",
       " 'Helio G88 Processor',\n",
       " 'Helio P22 (MTK6762) Processor',\n",
       " 'Helio P35 Processor',\n",
       " 'HiSilicon Kirin 710F AI Chipset with Dual-NPU Processor',\n",
       " 'Kirin 710 Processor',\n",
       " 'MSM8228 Processor',\n",
       " 'MSM8909 Processor',\n",
       " 'MSM8952 Processor',\n",
       " 'MT6260A Processor',\n",
       " 'MT6589 Processor',\n",
       " 'MT6737M Quad Core 1.1 GHz Processor',\n",
       " 'MT6753 Processor',\n",
       " 'MT6762 Octa Core (Helio P22) Processor',\n",
       " 'MTK 6592M Processor',\n",
       " 'MTK Dimensity 700 Processor',\n",
       " 'MTK Helio G35 Processor',\n",
       " 'MTK Helio P22 Processor',\n",
       " 'MTK MT6771V (P70) Processor',\n",
       " 'MTK P60 Octa Core 2.0 GHz Processor',\n",
       " 'MTK6261D Processor',\n",
       " 'MTK6737 Processor',\n",
       " 'MTK8735 Processor',\n",
       " 'MediaTek 6582 Processor',\n",
       " 'MediaTek Dimensity 1000+ (MT6889) Processor',\n",
       " 'MediaTek Dimensity 1200 Processor',\n",
       " 'MediaTek Dimensity 700 (MT6833) Processor',\n",
       " 'MediaTek Dimensity 700 Processor',\n",
       " 'MediaTek Dimensity 800U Processor',\n",
       " 'MediaTek Dimensity 900 Processor',\n",
       " 'MediaTek G35 Processor',\n",
       " 'MediaTek G37 Processor',\n",
       " 'MediaTek Helio A20 Processor',\n",
       " 'MediaTek Helio A22 Processor',\n",
       " 'MediaTek Helio G25 Processor',\n",
       " 'MediaTek Helio G35 (MT6765G) Processor',\n",
       " 'MediaTek Helio G35 Processor',\n",
       " 'MediaTek Helio G70 Processor',\n",
       " 'MediaTek Helio G80 (MT6769V) Processor',\n",
       " 'MediaTek Helio G80 Processor',\n",
       " 'MediaTek Helio G85 Processor',\n",
       " 'MediaTek Helio G88 Processor',\n",
       " 'MediaTek Helio G90T Processor',\n",
       " 'MediaTek Helio G95 Processor',\n",
       " 'MediaTek Helio G96 Processor',\n",
       " 'MediaTek Helio P22 Processor',\n",
       " 'MediaTek Helio P35 (MT6765) Processor',\n",
       " 'MediaTek Helio P35 Octa Core Processor',\n",
       " 'MediaTek Helio P35 Processor',\n",
       " 'MediaTek Helio P60 Octa Core 2.0 GHz Processor',\n",
       " 'MediaTek Helio P60 Processor',\n",
       " 'MediaTek Helio P95 Processor',\n",
       " 'MediaTek MT6572 Processor',\n",
       " 'MediaTek MT6735P 64-bit Processor',\n",
       " 'MediaTek MT6739 Processor',\n",
       " 'MediaTek MTK Helio P25 Octa Core 2.5 GHz Processor',\n",
       " 'MediaTek P22 Octa Core Processor',\n",
       " 'MediaTek P22 Processor',\n",
       " 'MediaTek P60 Octa Core 2.0 GHz Processor',\n",
       " 'MediaTek Processor',\n",
       " 'MediaTek | MT6739WW quad core Processor',\n",
       " 'Mediateck Processor',\n",
       " 'Mediatek Dimensity 1080 5G Processor',\n",
       " 'Mediatek Dimensity 1080 Processor',\n",
       " 'Mediatek Dimensity 1200 Processor',\n",
       " 'Mediatek Dimensity 1300 Processor',\n",
       " 'Mediatek Dimensity 700 Processor',\n",
       " 'Mediatek Dimensity 7200 5G Processor',\n",
       " 'Mediatek Dimensity 800U Processor',\n",
       " 'Mediatek Dimensity 810 5G Processor',\n",
       " 'Mediatek Dimensity 810 Processor',\n",
       " 'Mediatek Dimensity 8200 Processor',\n",
       " 'Mediatek Dimensity 900 Processor',\n",
       " 'Mediatek Dimensity 9000 Processor',\n",
       " 'Mediatek Dimensity 9000+ Processor',\n",
       " 'Mediatek Dimensity 920 Processor',\n",
       " 'Mediatek Dimensity 930 Processor',\n",
       " 'Mediatek G96 Processor',\n",
       " 'Mediatek G99 Processor',\n",
       " 'Mediatek Helio A22 Processor',\n",
       " 'Mediatek Helio A22 Processor, Upto 2.0 GHz Processor',\n",
       " 'Mediatek Helio G25 Processor',\n",
       " 'Mediatek Helio G35 (MT6765) Processor',\n",
       " 'Mediatek Helio G35 Processor',\n",
       " 'Mediatek Helio G37 Processor',\n",
       " 'Mediatek Helio G70 Processor',\n",
       " 'Mediatek Helio G85 Processor',\n",
       " 'Mediatek Helio G88 Processor',\n",
       " 'Mediatek Helio G96 Processor',\n",
       " 'Mediatek Helio G99 Octa Core Processor',\n",
       " 'Mediatek Helio G99 Processor',\n",
       " 'Mediatek Helio P10 64-bit Octa Core 1.8GHz Processor',\n",
       " 'Mediatek Helio P22 Processor',\n",
       " 'Mediatek Helio P35 Processor',\n",
       " 'Mediatek MT6750 Octa Core 1.5GHz Processor',\n",
       " 'Mediatek MT6750T Octa Core 1.5 GHz Processor',\n",
       " 'Mediatek MT6763T Octa Core 2.5 GHz Processor',\n",
       " 'Mediatek MT6765 Helio P35 (12nm) Processor',\n",
       " 'Mediatek MT6769 Helio G70 Processor',\n",
       " 'Mediatek MTK6737 Quad Core 1.3Ghz Processor',\n",
       " 'Meditek Helio G37 Processor',\n",
       " 'N/A Processor',\n",
       " 'NA 0 Single Core 208MHz Processor',\n",
       " 'NA Processor',\n",
       " 'Octa Core Processor',\n",
       " 'Octa Core Processor Processor',\n",
       " 'Octa-core Processor',\n",
       " 'Octa-core(EXYNOS) Processor',\n",
       " 'Qualcomm SDM450-B01 Processor',\n",
       " 'Qualcomm SDM670 Snapdragon 670 (10 nm) Processor',\n",
       " 'Qualcomm SDM710 Processor',\n",
       " 'Qualcomm SDM855 Processor',\n",
       " 'Qualcomm SM6225 Snapdragon 680 4G (6 nm) Processor',\n",
       " 'Qualcomm SM7150 Processor',\n",
       " 'Qualcomm Scorpion Processor',\n",
       " 'Qualcomm Snapdragon (SDM450-F01) Octa Core Processor',\n",
       " 'Qualcomm Snapdragon 425 1.4 GHz Processor',\n",
       " 'Qualcomm Snapdragon 425 Processor',\n",
       " 'Qualcomm Snapdragon 430 64-bit Octa Core 1.4GHz Processor',\n",
       " 'Qualcomm Snapdragon 430 Octa Core 1.4GHz Processor',\n",
       " 'Qualcomm Snapdragon 439 Processor',\n",
       " 'Qualcomm Snapdragon 450 (SDM450-F01) Processor',\n",
       " 'Qualcomm Snapdragon 450 Octa Core 1.8 GHz Processor',\n",
       " 'Qualcomm Snapdragon 450 Processor',\n",
       " 'Qualcomm Snapdragon 460 Processor',\n",
       " 'Qualcomm Snapdragon 480 Pro Processor',\n",
       " 'Qualcomm Snapdragon 625 64 bit Octa Core 2GHz Processor',\n",
       " 'Qualcomm Snapdragon 625 64-bit Octa Core 2GHz Processor',\n",
       " 'Qualcomm Snapdragon 625 Octa Core 2 Ghz Processor',\n",
       " 'Qualcomm Snapdragon 625 Processor',\n",
       " 'Qualcomm Snapdragon 626 Processor',\n",
       " 'Qualcomm Snapdragon 632 Processor',\n",
       " 'Qualcomm Snapdragon 636 Octacore Processor',\n",
       " 'Qualcomm Snapdragon 636 Processor',\n",
       " 'Qualcomm Snapdragon 650 64-bit Processor',\n",
       " 'Qualcomm Snapdragon 660 AIE Processor',\n",
       " 'Qualcomm Snapdragon 662 Processor',\n",
       " 'Qualcomm Snapdragon 665 AIE Processor',\n",
       " 'Qualcomm Snapdragon 665 Processor',\n",
       " 'Qualcomm Snapdragon 675 Processor',\n",
       " 'Qualcomm Snapdragon 675AIE Octa Core 2.0GHz Processor',\n",
       " 'Qualcomm Snapdragon 675AIE Processor',\n",
       " 'Qualcomm Snapdragon 680 (SM6225) Processor',\n",
       " 'Qualcomm Snapdragon 680 Processor',\n",
       " 'Qualcomm Snapdragon 695 (SM6375) Processor',\n",
       " 'Qualcomm Snapdragon 695 5G Processor',\n",
       " 'Qualcomm Snapdragon 695 Processor',\n",
       " 'Qualcomm Snapdragon 7+ Gen 2 (4nm) Processor',\n",
       " 'Qualcomm Snapdragon 712 AIE Octa Core 2.3GHz Processor',\n",
       " 'Qualcomm Snapdragon 712 AIE Processor',\n",
       " 'Qualcomm Snapdragon 720G Processor',\n",
       " 'Qualcomm Snapdragon 730 Processor',\n",
       " 'Qualcomm Snapdragon 730G Processor',\n",
       " 'Qualcomm Snapdragon 732G Processor',\n",
       " 'Qualcomm Snapdragon 750G Processor',\n",
       " 'Qualcomm Snapdragon 778G 5G Mobile Platform Processor',\n",
       " 'Qualcomm Snapdragon 778G Plus Processor',\n",
       " 'Qualcomm Snapdragon 778G Processor',\n",
       " 'Qualcomm Snapdragon 778G+ Processor',\n",
       " 'Qualcomm Snapdragon 8 Gen 1 Processor',\n",
       " 'Qualcomm Snapdragon 8 Gen 2 Processor',\n",
       " 'Qualcomm Snapdragon 8+ Gen 1 Processor',\n",
       " 'Qualcomm Snapdragon 810 v2.1 64-bit Processor',\n",
       " 'Qualcomm Snapdragon 820 Quad Core 2.15GHz Processor',\n",
       " 'Qualcomm Snapdragon 835 Octa Core 2.5 GHz Processor',\n",
       " 'Qualcomm Snapdragon 845 64-bit Processor',\n",
       " 'Qualcomm Snapdragon 845 Processor',\n",
       " 'Qualcomm Snapdragon 855 Processor',\n",
       " 'Qualcomm Snapdragon 855+ Processor',\n",
       " 'Qualcomm Snapdragon 860 Processor',\n",
       " 'Qualcomm Snapdragon 865 Processor',\n",
       " 'Qualcomm Snapdragon 870 5G (SM8250-AC) Processor',\n",
       " 'Qualcomm Snapdragon 870 Processor',\n",
       " 'Qualcomm Snapdragon 888 + Processor',\n",
       " 'Qualcomm Snapdragon 888 Octa-Core Processor',\n",
       " 'Qualcomm Snapdragon 888 Processor',\n",
       " 'Qualcomm Snapdragon Octa Core 750G 5G Processor Processor',\n",
       " 'Qualcomm Snapdragon S4 Processor',\n",
       " 'Qualcomm Snapdragon SDM450 Processor',\n",
       " 'Qualcomm® Snapdragon™ 750G Processor',\n",
       " 'Qualcomm® Snapdragon™ 765G Processor',\n",
       " 'Qualcomm® Snapdragon™ 855 Plus (Octa-core, 7nm, up to 2.96 GHz) , with Qualcomm AI Engine Processor',\n",
       " 'Qualcomm® Snapdragon™ 855 Plus Processor',\n",
       " 'SC6531E Processor',\n",
       " 'SC9863A Processor',\n",
       " 'SDM710 Processor',\n",
       " 'SEC S5E8535 (Exynos 1330) Processor',\n",
       " 'Samsung Exynos 9 Octa 9611 Processor',\n",
       " 'Single Core Processor',\n",
       " 'Snapdragon 439 Processor',\n",
       " 'Snapdragon 460 Processor',\n",
       " 'Snapdragon 695 Processor',\n",
       " 'Snapdragon 720G Processor',\n",
       " 'Snapdragon 820 Kryo Processor',\n",
       " 'Snapdragon@ 8 Gen 1 Processor',\n",
       " 'Spreadtrum \\nSC9863A1 Processor',\n",
       " 'Spreadtrum SC9863A Processor',\n",
       " 'Spreadtrum SC9863A1 Processor',\n",
       " 'Tensor G2 Processor',\n",
       " 'Turbo Processor Snapdragon 695 Processor',\n",
       " 'UNISOC T700 Processor',\n",
       " 'UniSoc T610 Processor',\n",
       " 'Unisoc 6531E Processor',\n",
       " 'Unisoc 6531F Processor',\n",
       " 'Unisoc Processor',\n",
       " 'Unisoc SC9863A Processor',\n",
       " 'Unisoc SC9863A/ Unisoc SC9863A1 Processor',\n",
       " 'Unisoc Spreadtrum SC9863A1 Processor',\n",
       " 'Unisoc T606 Processor',\n",
       " 'Unisoc T610 Octa Core Processor',\n",
       " 'Unisoc T610 Processor',\n",
       " 'Unisoc T612 Processor',\n",
       " 'Unisoc T612 processor Processor',\n",
       " 'Unisoc T616 Processor',\n",
       " 'Unisoc T618 Processor',\n",
       " 'Unisoc Tiger T612 (12 nm) Processor',\n",
       " 'Unisoc Tiger T616 Processor',\n",
       " 'Unisoc UMS9117-N Processor',\n",
       " 'Unisoc UMS9230 Processor',\n",
       " 'Water and Dust Resistant (1 meter for Upto 30 minutes, IP67)',\n",
       " 'With a 1-year domestic replacement guarantee.',\n",
       " 'domestic 1 Year on Handset and 6 Months on Accessories',\n",
       " 'domestic warranty of 12 months on phone & 6 months on accessories',\n",
       " 'iOS 13 Compatible',\n",
       " nan,\n",
       " 'one year brand waranty'}"
      ]
     },
     "execution_count": 18,
     "metadata": {},
     "output_type": "execute_result"
    }
   ],
   "source": [
    "set(data['Processor'])"
   ]
  },
  {
   "cell_type": "code",
   "execution_count": 22,
   "id": "e2fe5f5b-e0b7-4bb0-b4ea-d8a6fd81a8ed",
   "metadata": {
    "tags": []
   },
   "outputs": [],
   "source": [
    "from sklearn.preprocessing import LabelEncoder"
   ]
  },
  {
   "cell_type": "code",
   "execution_count": 23,
   "id": "57c3df59-fdca-4ae0-9513-138d4206ac2b",
   "metadata": {
    "tags": []
   },
   "outputs": [],
   "source": [
    "le = LabelEncoder()"
   ]
  },
  {
   "cell_type": "code",
   "execution_count": 24,
   "id": "5392c281-42ad-4a56-a308-c78f6b180db4",
   "metadata": {
    "tags": []
   },
   "outputs": [],
   "source": [
    "data['Processor'] = le.fit_transform(data['Processor'])"
   ]
  },
  {
   "cell_type": "code",
   "execution_count": 25,
   "id": "0f01d84e-c65c-49cb-87b1-3e46c346d80b",
   "metadata": {
    "tags": []
   },
   "outputs": [
    {
     "data": {
      "text/html": [
       "<div>\n",
       "<style scoped>\n",
       "    .dataframe tbody tr th:only-of-type {\n",
       "        vertical-align: middle;\n",
       "    }\n",
       "\n",
       "    .dataframe tbody tr th {\n",
       "        vertical-align: top;\n",
       "    }\n",
       "\n",
       "    .dataframe thead th {\n",
       "        text-align: right;\n",
       "    }\n",
       "</style>\n",
       "<table border=\"1\" class=\"dataframe\">\n",
       "  <thead>\n",
       "    <tr style=\"text-align: right;\">\n",
       "      <th></th>\n",
       "      <th>Rating ?/5</th>\n",
       "      <th>Number of Ratings</th>\n",
       "      <th>RAM</th>\n",
       "      <th>ROM/Storage</th>\n",
       "      <th>Back/Rare Camera</th>\n",
       "      <th>Front Camera</th>\n",
       "      <th>Battery</th>\n",
       "      <th>Processor</th>\n",
       "      <th>Price in INR</th>\n",
       "    </tr>\n",
       "  </thead>\n",
       "  <tbody>\n",
       "    <tr>\n",
       "      <th>0</th>\n",
       "      <td>4.2</td>\n",
       "      <td>33,561</td>\n",
       "      <td>2 GB RAM</td>\n",
       "      <td>32 GB ROM</td>\n",
       "      <td>8MP Dual Camera</td>\n",
       "      <td>5MP Front Camera</td>\n",
       "      <td>5000 mAh</td>\n",
       "      <td>116</td>\n",
       "      <td>5649.0</td>\n",
       "    </tr>\n",
       "    <tr>\n",
       "      <th>1</th>\n",
       "      <td>4.2</td>\n",
       "      <td>77,128</td>\n",
       "      <td>4 GB RAM</td>\n",
       "      <td>64 GB ROM</td>\n",
       "      <td>50MP + 2MP</td>\n",
       "      <td>8MP Front Camera</td>\n",
       "      <td>5000 mAh</td>\n",
       "      <td>102</td>\n",
       "      <td>11999.0</td>\n",
       "    </tr>\n",
       "    <tr>\n",
       "      <th>2</th>\n",
       "      <td>4.3</td>\n",
       "      <td>15,175</td>\n",
       "      <td>4 GB RAM</td>\n",
       "      <td>64 GB ROM</td>\n",
       "      <td>8MP Dual Rear Camera</td>\n",
       "      <td>5MP Front Camera</td>\n",
       "      <td>5000 mAh</td>\n",
       "      <td>40</td>\n",
       "      <td>6999.0</td>\n",
       "    </tr>\n",
       "    <tr>\n",
       "      <th>3</th>\n",
       "      <td>4.2</td>\n",
       "      <td>22,621</td>\n",
       "      <td>4 GB RAM</td>\n",
       "      <td>64 GB ROM</td>\n",
       "      <td>50MP Dual Rear Camera</td>\n",
       "      <td>5MP Front Camera</td>\n",
       "      <td>5000 mAh</td>\n",
       "      <td>122</td>\n",
       "      <td>7749.0</td>\n",
       "    </tr>\n",
       "    <tr>\n",
       "      <th>4</th>\n",
       "      <td>4.3</td>\n",
       "      <td>15,175</td>\n",
       "      <td>4 GB RAM</td>\n",
       "      <td>64 GB ROM</td>\n",
       "      <td>8MP Dual Rear Camera</td>\n",
       "      <td>5MP Front Camera</td>\n",
       "      <td>5000 mAh</td>\n",
       "      <td>40</td>\n",
       "      <td>6999.0</td>\n",
       "    </tr>\n",
       "    <tr>\n",
       "      <th>...</th>\n",
       "      <td>...</td>\n",
       "      <td>...</td>\n",
       "      <td>...</td>\n",
       "      <td>...</td>\n",
       "      <td>...</td>\n",
       "      <td>...</td>\n",
       "      <td>...</td>\n",
       "      <td>...</td>\n",
       "      <td>...</td>\n",
       "    </tr>\n",
       "    <tr>\n",
       "      <th>1831</th>\n",
       "      <td>4.3</td>\n",
       "      <td>25,582</td>\n",
       "      <td>4 GB RAM</td>\n",
       "      <td>64 GB ROM</td>\n",
       "      <td>48MP + 2MP + 2MP + AI Lens Camera</td>\n",
       "      <td>16MP Front Camera</td>\n",
       "      <td>5000 mAh</td>\n",
       "      <td>75</td>\n",
       "      <td>14999.0</td>\n",
       "    </tr>\n",
       "    <tr>\n",
       "      <th>1832</th>\n",
       "      <td>4.3</td>\n",
       "      <td>25,582</td>\n",
       "      <td>4 GB RAM</td>\n",
       "      <td>64 GB ROM</td>\n",
       "      <td>48MP + 2MP + 2MP + AI Lens Camera</td>\n",
       "      <td>16MP Front Camera</td>\n",
       "      <td>5000 mAh</td>\n",
       "      <td>75</td>\n",
       "      <td>14999.0</td>\n",
       "    </tr>\n",
       "    <tr>\n",
       "      <th>1833</th>\n",
       "      <td>4.3</td>\n",
       "      <td>25,582</td>\n",
       "      <td>4 GB RAM</td>\n",
       "      <td>64 GB ROM</td>\n",
       "      <td>48MP + 2MP + 2MP + AI Lens Camera</td>\n",
       "      <td>16MP Front Camera</td>\n",
       "      <td>5000 mAh</td>\n",
       "      <td>75</td>\n",
       "      <td>14999.0</td>\n",
       "    </tr>\n",
       "    <tr>\n",
       "      <th>1834</th>\n",
       "      <td>4.2</td>\n",
       "      <td>7,117</td>\n",
       "      <td>8 GB RAM</td>\n",
       "      <td>128 GB ROM</td>\n",
       "      <td>48MP + 8MP + 2MP + AI Lens Camera</td>\n",
       "      <td>16MP + 8MP Dual Front Camera</td>\n",
       "      <td>4500 mAh</td>\n",
       "      <td>80</td>\n",
       "      <td>18999.0</td>\n",
       "    </tr>\n",
       "    <tr>\n",
       "      <th>1835</th>\n",
       "      <td>4.3</td>\n",
       "      <td>15,701</td>\n",
       "      <td>4 GB RAM</td>\n",
       "      <td>64 GB ROM</td>\n",
       "      <td>16MP + 5MP + 2MP + Low Light Sensor</td>\n",
       "      <td>32MP Front Camera</td>\n",
       "      <td>4000 mAh</td>\n",
       "      <td>43</td>\n",
       "      <td>10999.0</td>\n",
       "    </tr>\n",
       "  </tbody>\n",
       "</table>\n",
       "<p>1291 rows × 9 columns</p>\n",
       "</div>"
      ],
      "text/plain": [
       "      Rating ?/5 Number of Ratings       RAM ROM/Storage  \\\n",
       "0            4.2            33,561  2 GB RAM   32 GB ROM   \n",
       "1            4.2            77,128  4 GB RAM   64 GB ROM   \n",
       "2            4.3            15,175  4 GB RAM   64 GB ROM   \n",
       "3            4.2            22,621  4 GB RAM   64 GB ROM   \n",
       "4            4.3            15,175  4 GB RAM   64 GB ROM   \n",
       "...          ...               ...       ...         ...   \n",
       "1831         4.3            25,582  4 GB RAM   64 GB ROM   \n",
       "1832         4.3            25,582  4 GB RAM   64 GB ROM   \n",
       "1833         4.3            25,582  4 GB RAM   64 GB ROM   \n",
       "1834         4.2             7,117  8 GB RAM  128 GB ROM   \n",
       "1835         4.3            15,701  4 GB RAM   64 GB ROM   \n",
       "\n",
       "                         Back/Rare Camera                  Front Camera  \\\n",
       "0                         8MP Dual Camera              5MP Front Camera   \n",
       "1                              50MP + 2MP              8MP Front Camera   \n",
       "2                    8MP Dual Rear Camera              5MP Front Camera   \n",
       "3                   50MP Dual Rear Camera              5MP Front Camera   \n",
       "4                    8MP Dual Rear Camera              5MP Front Camera   \n",
       "...                                   ...                           ...   \n",
       "1831    48MP + 2MP + 2MP + AI Lens Camera             16MP Front Camera   \n",
       "1832    48MP + 2MP + 2MP + AI Lens Camera             16MP Front Camera   \n",
       "1833    48MP + 2MP + 2MP + AI Lens Camera             16MP Front Camera   \n",
       "1834    48MP + 8MP + 2MP + AI Lens Camera  16MP + 8MP Dual Front Camera   \n",
       "1835  16MP + 5MP + 2MP + Low Light Sensor             32MP Front Camera   \n",
       "\n",
       "       Battery  Processor  Price in INR  \n",
       "0     5000 mAh        116        5649.0  \n",
       "1     5000 mAh        102       11999.0  \n",
       "2     5000 mAh         40        6999.0  \n",
       "3     5000 mAh        122        7749.0  \n",
       "4     5000 mAh         40        6999.0  \n",
       "...        ...        ...           ...  \n",
       "1831  5000 mAh         75       14999.0  \n",
       "1832  5000 mAh         75       14999.0  \n",
       "1833  5000 mAh         75       14999.0  \n",
       "1834  4500 mAh         80       18999.0  \n",
       "1835  4000 mAh         43       10999.0  \n",
       "\n",
       "[1291 rows x 9 columns]"
      ]
     },
     "execution_count": 25,
     "metadata": {},
     "output_type": "execute_result"
    }
   ],
   "source": [
    "data"
   ]
  },
  {
   "cell_type": "code",
   "execution_count": 28,
   "id": "9d9670eb-5c97-4dc1-b2c3-3192ae011b6d",
   "metadata": {
    "tags": []
   },
   "outputs": [],
   "source": [
    "data['Battery'] = data['Battery'].str.replace(\"mAh\",\"\")"
   ]
  },
  {
   "cell_type": "code",
   "execution_count": 29,
   "id": "4b4fa13b-8df4-48b2-82cc-c125b2b2c657",
   "metadata": {
    "tags": []
   },
   "outputs": [],
   "source": [
    "data['Battery'] = data['Battery'].astype(\"int\")"
   ]
  },
  {
   "cell_type": "code",
   "execution_count": 30,
   "id": "370b77a6-9f3b-4250-97cd-b5e74e92820b",
   "metadata": {
    "tags": []
   },
   "outputs": [
    {
     "data": {
      "text/html": [
       "<div>\n",
       "<style scoped>\n",
       "    .dataframe tbody tr th:only-of-type {\n",
       "        vertical-align: middle;\n",
       "    }\n",
       "\n",
       "    .dataframe tbody tr th {\n",
       "        vertical-align: top;\n",
       "    }\n",
       "\n",
       "    .dataframe thead th {\n",
       "        text-align: right;\n",
       "    }\n",
       "</style>\n",
       "<table border=\"1\" class=\"dataframe\">\n",
       "  <thead>\n",
       "    <tr style=\"text-align: right;\">\n",
       "      <th></th>\n",
       "      <th>Rating ?/5</th>\n",
       "      <th>Number of Ratings</th>\n",
       "      <th>RAM</th>\n",
       "      <th>ROM/Storage</th>\n",
       "      <th>Back/Rare Camera</th>\n",
       "      <th>Front Camera</th>\n",
       "      <th>Battery</th>\n",
       "      <th>Processor</th>\n",
       "      <th>Price in INR</th>\n",
       "    </tr>\n",
       "  </thead>\n",
       "  <tbody>\n",
       "    <tr>\n",
       "      <th>0</th>\n",
       "      <td>4.2</td>\n",
       "      <td>33,561</td>\n",
       "      <td>2 GB RAM</td>\n",
       "      <td>32 GB ROM</td>\n",
       "      <td>8MP Dual Camera</td>\n",
       "      <td>5MP Front Camera</td>\n",
       "      <td>5000</td>\n",
       "      <td>116</td>\n",
       "      <td>5649.0</td>\n",
       "    </tr>\n",
       "    <tr>\n",
       "      <th>1</th>\n",
       "      <td>4.2</td>\n",
       "      <td>77,128</td>\n",
       "      <td>4 GB RAM</td>\n",
       "      <td>64 GB ROM</td>\n",
       "      <td>50MP + 2MP</td>\n",
       "      <td>8MP Front Camera</td>\n",
       "      <td>5000</td>\n",
       "      <td>102</td>\n",
       "      <td>11999.0</td>\n",
       "    </tr>\n",
       "    <tr>\n",
       "      <th>2</th>\n",
       "      <td>4.3</td>\n",
       "      <td>15,175</td>\n",
       "      <td>4 GB RAM</td>\n",
       "      <td>64 GB ROM</td>\n",
       "      <td>8MP Dual Rear Camera</td>\n",
       "      <td>5MP Front Camera</td>\n",
       "      <td>5000</td>\n",
       "      <td>40</td>\n",
       "      <td>6999.0</td>\n",
       "    </tr>\n",
       "    <tr>\n",
       "      <th>3</th>\n",
       "      <td>4.2</td>\n",
       "      <td>22,621</td>\n",
       "      <td>4 GB RAM</td>\n",
       "      <td>64 GB ROM</td>\n",
       "      <td>50MP Dual Rear Camera</td>\n",
       "      <td>5MP Front Camera</td>\n",
       "      <td>5000</td>\n",
       "      <td>122</td>\n",
       "      <td>7749.0</td>\n",
       "    </tr>\n",
       "    <tr>\n",
       "      <th>4</th>\n",
       "      <td>4.3</td>\n",
       "      <td>15,175</td>\n",
       "      <td>4 GB RAM</td>\n",
       "      <td>64 GB ROM</td>\n",
       "      <td>8MP Dual Rear Camera</td>\n",
       "      <td>5MP Front Camera</td>\n",
       "      <td>5000</td>\n",
       "      <td>40</td>\n",
       "      <td>6999.0</td>\n",
       "    </tr>\n",
       "    <tr>\n",
       "      <th>...</th>\n",
       "      <td>...</td>\n",
       "      <td>...</td>\n",
       "      <td>...</td>\n",
       "      <td>...</td>\n",
       "      <td>...</td>\n",
       "      <td>...</td>\n",
       "      <td>...</td>\n",
       "      <td>...</td>\n",
       "      <td>...</td>\n",
       "    </tr>\n",
       "    <tr>\n",
       "      <th>1831</th>\n",
       "      <td>4.3</td>\n",
       "      <td>25,582</td>\n",
       "      <td>4 GB RAM</td>\n",
       "      <td>64 GB ROM</td>\n",
       "      <td>48MP + 2MP + 2MP + AI Lens Camera</td>\n",
       "      <td>16MP Front Camera</td>\n",
       "      <td>5000</td>\n",
       "      <td>75</td>\n",
       "      <td>14999.0</td>\n",
       "    </tr>\n",
       "    <tr>\n",
       "      <th>1832</th>\n",
       "      <td>4.3</td>\n",
       "      <td>25,582</td>\n",
       "      <td>4 GB RAM</td>\n",
       "      <td>64 GB ROM</td>\n",
       "      <td>48MP + 2MP + 2MP + AI Lens Camera</td>\n",
       "      <td>16MP Front Camera</td>\n",
       "      <td>5000</td>\n",
       "      <td>75</td>\n",
       "      <td>14999.0</td>\n",
       "    </tr>\n",
       "    <tr>\n",
       "      <th>1833</th>\n",
       "      <td>4.3</td>\n",
       "      <td>25,582</td>\n",
       "      <td>4 GB RAM</td>\n",
       "      <td>64 GB ROM</td>\n",
       "      <td>48MP + 2MP + 2MP + AI Lens Camera</td>\n",
       "      <td>16MP Front Camera</td>\n",
       "      <td>5000</td>\n",
       "      <td>75</td>\n",
       "      <td>14999.0</td>\n",
       "    </tr>\n",
       "    <tr>\n",
       "      <th>1834</th>\n",
       "      <td>4.2</td>\n",
       "      <td>7,117</td>\n",
       "      <td>8 GB RAM</td>\n",
       "      <td>128 GB ROM</td>\n",
       "      <td>48MP + 8MP + 2MP + AI Lens Camera</td>\n",
       "      <td>16MP + 8MP Dual Front Camera</td>\n",
       "      <td>4500</td>\n",
       "      <td>80</td>\n",
       "      <td>18999.0</td>\n",
       "    </tr>\n",
       "    <tr>\n",
       "      <th>1835</th>\n",
       "      <td>4.3</td>\n",
       "      <td>15,701</td>\n",
       "      <td>4 GB RAM</td>\n",
       "      <td>64 GB ROM</td>\n",
       "      <td>16MP + 5MP + 2MP + Low Light Sensor</td>\n",
       "      <td>32MP Front Camera</td>\n",
       "      <td>4000</td>\n",
       "      <td>43</td>\n",
       "      <td>10999.0</td>\n",
       "    </tr>\n",
       "  </tbody>\n",
       "</table>\n",
       "<p>1291 rows × 9 columns</p>\n",
       "</div>"
      ],
      "text/plain": [
       "      Rating ?/5 Number of Ratings       RAM ROM/Storage  \\\n",
       "0            4.2            33,561  2 GB RAM   32 GB ROM   \n",
       "1            4.2            77,128  4 GB RAM   64 GB ROM   \n",
       "2            4.3            15,175  4 GB RAM   64 GB ROM   \n",
       "3            4.2            22,621  4 GB RAM   64 GB ROM   \n",
       "4            4.3            15,175  4 GB RAM   64 GB ROM   \n",
       "...          ...               ...       ...         ...   \n",
       "1831         4.3            25,582  4 GB RAM   64 GB ROM   \n",
       "1832         4.3            25,582  4 GB RAM   64 GB ROM   \n",
       "1833         4.3            25,582  4 GB RAM   64 GB ROM   \n",
       "1834         4.2             7,117  8 GB RAM  128 GB ROM   \n",
       "1835         4.3            15,701  4 GB RAM   64 GB ROM   \n",
       "\n",
       "                         Back/Rare Camera                  Front Camera  \\\n",
       "0                         8MP Dual Camera              5MP Front Camera   \n",
       "1                              50MP + 2MP              8MP Front Camera   \n",
       "2                    8MP Dual Rear Camera              5MP Front Camera   \n",
       "3                   50MP Dual Rear Camera              5MP Front Camera   \n",
       "4                    8MP Dual Rear Camera              5MP Front Camera   \n",
       "...                                   ...                           ...   \n",
       "1831    48MP + 2MP + 2MP + AI Lens Camera             16MP Front Camera   \n",
       "1832    48MP + 2MP + 2MP + AI Lens Camera             16MP Front Camera   \n",
       "1833    48MP + 2MP + 2MP + AI Lens Camera             16MP Front Camera   \n",
       "1834    48MP + 8MP + 2MP + AI Lens Camera  16MP + 8MP Dual Front Camera   \n",
       "1835  16MP + 5MP + 2MP + Low Light Sensor             32MP Front Camera   \n",
       "\n",
       "      Battery  Processor  Price in INR  \n",
       "0        5000        116        5649.0  \n",
       "1        5000        102       11999.0  \n",
       "2        5000         40        6999.0  \n",
       "3        5000        122        7749.0  \n",
       "4        5000         40        6999.0  \n",
       "...       ...        ...           ...  \n",
       "1831     5000         75       14999.0  \n",
       "1832     5000         75       14999.0  \n",
       "1833     5000         75       14999.0  \n",
       "1834     4500         80       18999.0  \n",
       "1835     4000         43       10999.0  \n",
       "\n",
       "[1291 rows x 9 columns]"
      ]
     },
     "execution_count": 30,
     "metadata": {},
     "output_type": "execute_result"
    }
   ],
   "source": [
    "data"
   ]
  },
  {
   "cell_type": "code",
   "execution_count": 32,
   "id": "1dd79ddd-684e-4fc7-9a5d-912a634d6b50",
   "metadata": {
    "tags": []
   },
   "outputs": [],
   "source": [
    "data['Front Camera'] = le.fit_transform(data['Front Camera'])"
   ]
  },
  {
   "cell_type": "code",
   "execution_count": 34,
   "id": "873390c9-a364-4adc-bcd8-eba3f5caec98",
   "metadata": {
    "tags": []
   },
   "outputs": [],
   "source": [
    "data['Back/Rare Camera'] = le.fit_transform(data['Back/Rare Camera'])"
   ]
  },
  {
   "cell_type": "code",
   "execution_count": 35,
   "id": "56a2c7fc-d796-4fbe-96bc-ef1216d3fa94",
   "metadata": {
    "tags": []
   },
   "outputs": [
    {
     "data": {
      "text/html": [
       "<div>\n",
       "<style scoped>\n",
       "    .dataframe tbody tr th:only-of-type {\n",
       "        vertical-align: middle;\n",
       "    }\n",
       "\n",
       "    .dataframe tbody tr th {\n",
       "        vertical-align: top;\n",
       "    }\n",
       "\n",
       "    .dataframe thead th {\n",
       "        text-align: right;\n",
       "    }\n",
       "</style>\n",
       "<table border=\"1\" class=\"dataframe\">\n",
       "  <thead>\n",
       "    <tr style=\"text-align: right;\">\n",
       "      <th></th>\n",
       "      <th>Rating ?/5</th>\n",
       "      <th>Number of Ratings</th>\n",
       "      <th>RAM</th>\n",
       "      <th>ROM/Storage</th>\n",
       "      <th>Back/Rare Camera</th>\n",
       "      <th>Front Camera</th>\n",
       "      <th>Battery</th>\n",
       "      <th>Processor</th>\n",
       "      <th>Price in INR</th>\n",
       "    </tr>\n",
       "  </thead>\n",
       "  <tbody>\n",
       "    <tr>\n",
       "      <th>0</th>\n",
       "      <td>4.2</td>\n",
       "      <td>33,561</td>\n",
       "      <td>2 GB RAM</td>\n",
       "      <td>32 GB ROM</td>\n",
       "      <td>144</td>\n",
       "      <td>26</td>\n",
       "      <td>5000</td>\n",
       "      <td>116</td>\n",
       "      <td>5649.0</td>\n",
       "    </tr>\n",
       "    <tr>\n",
       "      <th>1</th>\n",
       "      <td>4.2</td>\n",
       "      <td>77,128</td>\n",
       "      <td>4 GB RAM</td>\n",
       "      <td>64 GB ROM</td>\n",
       "      <td>99</td>\n",
       "      <td>31</td>\n",
       "      <td>5000</td>\n",
       "      <td>102</td>\n",
       "      <td>11999.0</td>\n",
       "    </tr>\n",
       "    <tr>\n",
       "      <th>2</th>\n",
       "      <td>4.3</td>\n",
       "      <td>15,175</td>\n",
       "      <td>4 GB RAM</td>\n",
       "      <td>64 GB ROM</td>\n",
       "      <td>145</td>\n",
       "      <td>26</td>\n",
       "      <td>5000</td>\n",
       "      <td>40</td>\n",
       "      <td>6999.0</td>\n",
       "    </tr>\n",
       "    <tr>\n",
       "      <th>3</th>\n",
       "      <td>4.2</td>\n",
       "      <td>22,621</td>\n",
       "      <td>4 GB RAM</td>\n",
       "      <td>64 GB ROM</td>\n",
       "      <td>118</td>\n",
       "      <td>26</td>\n",
       "      <td>5000</td>\n",
       "      <td>122</td>\n",
       "      <td>7749.0</td>\n",
       "    </tr>\n",
       "    <tr>\n",
       "      <th>4</th>\n",
       "      <td>4.3</td>\n",
       "      <td>15,175</td>\n",
       "      <td>4 GB RAM</td>\n",
       "      <td>64 GB ROM</td>\n",
       "      <td>145</td>\n",
       "      <td>26</td>\n",
       "      <td>5000</td>\n",
       "      <td>40</td>\n",
       "      <td>6999.0</td>\n",
       "    </tr>\n",
       "    <tr>\n",
       "      <th>...</th>\n",
       "      <td>...</td>\n",
       "      <td>...</td>\n",
       "      <td>...</td>\n",
       "      <td>...</td>\n",
       "      <td>...</td>\n",
       "      <td>...</td>\n",
       "      <td>...</td>\n",
       "      <td>...</td>\n",
       "      <td>...</td>\n",
       "    </tr>\n",
       "    <tr>\n",
       "      <th>1831</th>\n",
       "      <td>4.3</td>\n",
       "      <td>25,582</td>\n",
       "      <td>4 GB RAM</td>\n",
       "      <td>64 GB ROM</td>\n",
       "      <td>69</td>\n",
       "      <td>12</td>\n",
       "      <td>5000</td>\n",
       "      <td>75</td>\n",
       "      <td>14999.0</td>\n",
       "    </tr>\n",
       "    <tr>\n",
       "      <th>1832</th>\n",
       "      <td>4.3</td>\n",
       "      <td>25,582</td>\n",
       "      <td>4 GB RAM</td>\n",
       "      <td>64 GB ROM</td>\n",
       "      <td>69</td>\n",
       "      <td>12</td>\n",
       "      <td>5000</td>\n",
       "      <td>75</td>\n",
       "      <td>14999.0</td>\n",
       "    </tr>\n",
       "    <tr>\n",
       "      <th>1833</th>\n",
       "      <td>4.3</td>\n",
       "      <td>25,582</td>\n",
       "      <td>4 GB RAM</td>\n",
       "      <td>64 GB ROM</td>\n",
       "      <td>69</td>\n",
       "      <td>12</td>\n",
       "      <td>5000</td>\n",
       "      <td>75</td>\n",
       "      <td>14999.0</td>\n",
       "    </tr>\n",
       "    <tr>\n",
       "      <th>1834</th>\n",
       "      <td>4.2</td>\n",
       "      <td>7,117</td>\n",
       "      <td>8 GB RAM</td>\n",
       "      <td>128 GB ROM</td>\n",
       "      <td>77</td>\n",
       "      <td>10</td>\n",
       "      <td>4500</td>\n",
       "      <td>80</td>\n",
       "      <td>18999.0</td>\n",
       "    </tr>\n",
       "    <tr>\n",
       "      <th>1835</th>\n",
       "      <td>4.3</td>\n",
       "      <td>15,701</td>\n",
       "      <td>4 GB RAM</td>\n",
       "      <td>64 GB ROM</td>\n",
       "      <td>50</td>\n",
       "      <td>20</td>\n",
       "      <td>4000</td>\n",
       "      <td>43</td>\n",
       "      <td>10999.0</td>\n",
       "    </tr>\n",
       "  </tbody>\n",
       "</table>\n",
       "<p>1291 rows × 9 columns</p>\n",
       "</div>"
      ],
      "text/plain": [
       "      Rating ?/5 Number of Ratings       RAM ROM/Storage  Back/Rare Camera  \\\n",
       "0            4.2            33,561  2 GB RAM   32 GB ROM               144   \n",
       "1            4.2            77,128  4 GB RAM   64 GB ROM                99   \n",
       "2            4.3            15,175  4 GB RAM   64 GB ROM               145   \n",
       "3            4.2            22,621  4 GB RAM   64 GB ROM               118   \n",
       "4            4.3            15,175  4 GB RAM   64 GB ROM               145   \n",
       "...          ...               ...       ...         ...               ...   \n",
       "1831         4.3            25,582  4 GB RAM   64 GB ROM                69   \n",
       "1832         4.3            25,582  4 GB RAM   64 GB ROM                69   \n",
       "1833         4.3            25,582  4 GB RAM   64 GB ROM                69   \n",
       "1834         4.2             7,117  8 GB RAM  128 GB ROM                77   \n",
       "1835         4.3            15,701  4 GB RAM   64 GB ROM                50   \n",
       "\n",
       "      Front Camera  Battery  Processor  Price in INR  \n",
       "0               26     5000        116        5649.0  \n",
       "1               31     5000        102       11999.0  \n",
       "2               26     5000         40        6999.0  \n",
       "3               26     5000        122        7749.0  \n",
       "4               26     5000         40        6999.0  \n",
       "...            ...      ...        ...           ...  \n",
       "1831            12     5000         75       14999.0  \n",
       "1832            12     5000         75       14999.0  \n",
       "1833            12     5000         75       14999.0  \n",
       "1834            10     4500         80       18999.0  \n",
       "1835            20     4000         43       10999.0  \n",
       "\n",
       "[1291 rows x 9 columns]"
      ]
     },
     "execution_count": 35,
     "metadata": {},
     "output_type": "execute_result"
    }
   ],
   "source": [
    "data"
   ]
  },
  {
   "cell_type": "code",
   "execution_count": 36,
   "id": "f8188b5d-1ffd-491e-b413-1b8491fc769d",
   "metadata": {
    "tags": []
   },
   "outputs": [
    {
     "data": {
      "text/plain": [
       "{'0 GB ROM',\n",
       " '128 GB ROM',\n",
       " '16 GB ROM',\n",
       " '256 GB ROM',\n",
       " '32 GB ROM',\n",
       " '4 GB ROM',\n",
       " '512 GB ROM',\n",
       " '64 GB ROM',\n",
       " '8 GB ROM',\n",
       " 'NA ROM'}"
      ]
     },
     "execution_count": 36,
     "metadata": {},
     "output_type": "execute_result"
    }
   ],
   "source": [
    "set(data[\"ROM/Storage\"])"
   ]
  },
  {
   "cell_type": "code",
   "execution_count": 38,
   "id": "63039237-5e68-4d0b-9e76-51af513104d7",
   "metadata": {
    "tags": []
   },
   "outputs": [],
   "source": [
    "data[\"ROM/Storage\"]= data['ROM/Storage'].str.replace(\"NA ROM\", \"0 GB ROM\")"
   ]
  },
  {
   "cell_type": "code",
   "execution_count": 39,
   "id": "16e4b31c-160b-4bbc-912b-3035deb76665",
   "metadata": {
    "tags": []
   },
   "outputs": [
    {
     "data": {
      "text/plain": [
       "{'0 GB ROM',\n",
       " '128 GB ROM',\n",
       " '16 GB ROM',\n",
       " '256 GB ROM',\n",
       " '32 GB ROM',\n",
       " '4 GB ROM',\n",
       " '512 GB ROM',\n",
       " '64 GB ROM',\n",
       " '8 GB ROM'}"
      ]
     },
     "execution_count": 39,
     "metadata": {},
     "output_type": "execute_result"
    }
   ],
   "source": [
    "set(data[\"ROM/Storage\"])"
   ]
  },
  {
   "cell_type": "code",
   "execution_count": 40,
   "id": "6edf799f-0b07-43df-82ab-f0890dc5102d",
   "metadata": {
    "tags": []
   },
   "outputs": [],
   "source": [
    "data[\"ROM/Storage\"]= data['ROM/Storage'].str.replace(\" GB ROM\",'')"
   ]
  },
  {
   "cell_type": "code",
   "execution_count": 42,
   "id": "ea75e7bf-dfb0-41f7-9d11-ac21dd409bb2",
   "metadata": {
    "tags": []
   },
   "outputs": [],
   "source": [
    "data[\"ROM/Storage\"] = data[\"ROM/Storage\"].astype('int')"
   ]
  },
  {
   "cell_type": "code",
   "execution_count": 43,
   "id": "1df5b00e-dc48-4def-8db2-b580056d66a9",
   "metadata": {
    "tags": []
   },
   "outputs": [
    {
     "data": {
      "text/html": [
       "<div>\n",
       "<style scoped>\n",
       "    .dataframe tbody tr th:only-of-type {\n",
       "        vertical-align: middle;\n",
       "    }\n",
       "\n",
       "    .dataframe tbody tr th {\n",
       "        vertical-align: top;\n",
       "    }\n",
       "\n",
       "    .dataframe thead th {\n",
       "        text-align: right;\n",
       "    }\n",
       "</style>\n",
       "<table border=\"1\" class=\"dataframe\">\n",
       "  <thead>\n",
       "    <tr style=\"text-align: right;\">\n",
       "      <th></th>\n",
       "      <th>Rating ?/5</th>\n",
       "      <th>Number of Ratings</th>\n",
       "      <th>RAM</th>\n",
       "      <th>ROM/Storage</th>\n",
       "      <th>Back/Rare Camera</th>\n",
       "      <th>Front Camera</th>\n",
       "      <th>Battery</th>\n",
       "      <th>Processor</th>\n",
       "      <th>Price in INR</th>\n",
       "    </tr>\n",
       "  </thead>\n",
       "  <tbody>\n",
       "    <tr>\n",
       "      <th>0</th>\n",
       "      <td>4.2</td>\n",
       "      <td>33,561</td>\n",
       "      <td>2 GB RAM</td>\n",
       "      <td>32</td>\n",
       "      <td>144</td>\n",
       "      <td>26</td>\n",
       "      <td>5000</td>\n",
       "      <td>116</td>\n",
       "      <td>5649.0</td>\n",
       "    </tr>\n",
       "    <tr>\n",
       "      <th>1</th>\n",
       "      <td>4.2</td>\n",
       "      <td>77,128</td>\n",
       "      <td>4 GB RAM</td>\n",
       "      <td>64</td>\n",
       "      <td>99</td>\n",
       "      <td>31</td>\n",
       "      <td>5000</td>\n",
       "      <td>102</td>\n",
       "      <td>11999.0</td>\n",
       "    </tr>\n",
       "    <tr>\n",
       "      <th>2</th>\n",
       "      <td>4.3</td>\n",
       "      <td>15,175</td>\n",
       "      <td>4 GB RAM</td>\n",
       "      <td>64</td>\n",
       "      <td>145</td>\n",
       "      <td>26</td>\n",
       "      <td>5000</td>\n",
       "      <td>40</td>\n",
       "      <td>6999.0</td>\n",
       "    </tr>\n",
       "    <tr>\n",
       "      <th>3</th>\n",
       "      <td>4.2</td>\n",
       "      <td>22,621</td>\n",
       "      <td>4 GB RAM</td>\n",
       "      <td>64</td>\n",
       "      <td>118</td>\n",
       "      <td>26</td>\n",
       "      <td>5000</td>\n",
       "      <td>122</td>\n",
       "      <td>7749.0</td>\n",
       "    </tr>\n",
       "    <tr>\n",
       "      <th>4</th>\n",
       "      <td>4.3</td>\n",
       "      <td>15,175</td>\n",
       "      <td>4 GB RAM</td>\n",
       "      <td>64</td>\n",
       "      <td>145</td>\n",
       "      <td>26</td>\n",
       "      <td>5000</td>\n",
       "      <td>40</td>\n",
       "      <td>6999.0</td>\n",
       "    </tr>\n",
       "    <tr>\n",
       "      <th>...</th>\n",
       "      <td>...</td>\n",
       "      <td>...</td>\n",
       "      <td>...</td>\n",
       "      <td>...</td>\n",
       "      <td>...</td>\n",
       "      <td>...</td>\n",
       "      <td>...</td>\n",
       "      <td>...</td>\n",
       "      <td>...</td>\n",
       "    </tr>\n",
       "    <tr>\n",
       "      <th>1831</th>\n",
       "      <td>4.3</td>\n",
       "      <td>25,582</td>\n",
       "      <td>4 GB RAM</td>\n",
       "      <td>64</td>\n",
       "      <td>69</td>\n",
       "      <td>12</td>\n",
       "      <td>5000</td>\n",
       "      <td>75</td>\n",
       "      <td>14999.0</td>\n",
       "    </tr>\n",
       "    <tr>\n",
       "      <th>1832</th>\n",
       "      <td>4.3</td>\n",
       "      <td>25,582</td>\n",
       "      <td>4 GB RAM</td>\n",
       "      <td>64</td>\n",
       "      <td>69</td>\n",
       "      <td>12</td>\n",
       "      <td>5000</td>\n",
       "      <td>75</td>\n",
       "      <td>14999.0</td>\n",
       "    </tr>\n",
       "    <tr>\n",
       "      <th>1833</th>\n",
       "      <td>4.3</td>\n",
       "      <td>25,582</td>\n",
       "      <td>4 GB RAM</td>\n",
       "      <td>64</td>\n",
       "      <td>69</td>\n",
       "      <td>12</td>\n",
       "      <td>5000</td>\n",
       "      <td>75</td>\n",
       "      <td>14999.0</td>\n",
       "    </tr>\n",
       "    <tr>\n",
       "      <th>1834</th>\n",
       "      <td>4.2</td>\n",
       "      <td>7,117</td>\n",
       "      <td>8 GB RAM</td>\n",
       "      <td>128</td>\n",
       "      <td>77</td>\n",
       "      <td>10</td>\n",
       "      <td>4500</td>\n",
       "      <td>80</td>\n",
       "      <td>18999.0</td>\n",
       "    </tr>\n",
       "    <tr>\n",
       "      <th>1835</th>\n",
       "      <td>4.3</td>\n",
       "      <td>15,701</td>\n",
       "      <td>4 GB RAM</td>\n",
       "      <td>64</td>\n",
       "      <td>50</td>\n",
       "      <td>20</td>\n",
       "      <td>4000</td>\n",
       "      <td>43</td>\n",
       "      <td>10999.0</td>\n",
       "    </tr>\n",
       "  </tbody>\n",
       "</table>\n",
       "<p>1291 rows × 9 columns</p>\n",
       "</div>"
      ],
      "text/plain": [
       "      Rating ?/5 Number of Ratings       RAM  ROM/Storage  Back/Rare Camera  \\\n",
       "0            4.2            33,561  2 GB RAM           32               144   \n",
       "1            4.2            77,128  4 GB RAM           64                99   \n",
       "2            4.3            15,175  4 GB RAM           64               145   \n",
       "3            4.2            22,621  4 GB RAM           64               118   \n",
       "4            4.3            15,175  4 GB RAM           64               145   \n",
       "...          ...               ...       ...          ...               ...   \n",
       "1831         4.3            25,582  4 GB RAM           64                69   \n",
       "1832         4.3            25,582  4 GB RAM           64                69   \n",
       "1833         4.3            25,582  4 GB RAM           64                69   \n",
       "1834         4.2             7,117  8 GB RAM          128                77   \n",
       "1835         4.3            15,701  4 GB RAM           64                50   \n",
       "\n",
       "      Front Camera  Battery  Processor  Price in INR  \n",
       "0               26     5000        116        5649.0  \n",
       "1               31     5000        102       11999.0  \n",
       "2               26     5000         40        6999.0  \n",
       "3               26     5000        122        7749.0  \n",
       "4               26     5000         40        6999.0  \n",
       "...            ...      ...        ...           ...  \n",
       "1831            12     5000         75       14999.0  \n",
       "1832            12     5000         75       14999.0  \n",
       "1833            12     5000         75       14999.0  \n",
       "1834            10     4500         80       18999.0  \n",
       "1835            20     4000         43       10999.0  \n",
       "\n",
       "[1291 rows x 9 columns]"
      ]
     },
     "execution_count": 43,
     "metadata": {},
     "output_type": "execute_result"
    }
   ],
   "source": [
    "data"
   ]
  },
  {
   "cell_type": "code",
   "execution_count": 44,
   "id": "fe16ff51-0c06-4d9c-a893-3ca31f13341d",
   "metadata": {
    "tags": []
   },
   "outputs": [
    {
     "data": {
      "text/plain": [
       "{'1 GB RAM',\n",
       " '1.5 GB RAM',\n",
       " '12 GB RAM',\n",
       " '16 MB RAM',\n",
       " '2 GB RAM',\n",
       " '3 GB RAM',\n",
       " '4 GB RAM',\n",
       " '512 MB RAM',\n",
       " '6 GB RAM',\n",
       " '8 GB RAM',\n",
       " '8 MB RAM'}"
      ]
     },
     "execution_count": 44,
     "metadata": {},
     "output_type": "execute_result"
    }
   ],
   "source": [
    "set(data[\"RAM\"])"
   ]
  },
  {
   "cell_type": "code",
   "execution_count": 45,
   "id": "81e15fef-c9c0-47f7-ba14-db522c00f398",
   "metadata": {
    "tags": []
   },
   "outputs": [],
   "source": [
    "data[\"RAM\"]= data['RAM'].str.replace(\"512 MB RAM\",'0.5 GB RAM')"
   ]
  },
  {
   "cell_type": "code",
   "execution_count": 46,
   "id": "11a18f26-ed0a-41d1-86a2-74bfbc98f4c6",
   "metadata": {
    "tags": []
   },
   "outputs": [],
   "source": [
    "data[\"RAM\"]= data['RAM'].str.replace(\"8 MB RAM\",'8 GB RAM')"
   ]
  },
  {
   "cell_type": "code",
   "execution_count": 47,
   "id": "6c6e9697-cd2f-48cf-8e33-36f67d54181d",
   "metadata": {
    "tags": []
   },
   "outputs": [],
   "source": [
    "data[\"RAM\"]= data['RAM'].str.replace(\"16 MB RAM\",'16 GB RAM')"
   ]
  },
  {
   "cell_type": "code",
   "execution_count": 48,
   "id": "bb4e70b8-edf7-41db-a0e5-bd0f101c18af",
   "metadata": {
    "tags": []
   },
   "outputs": [
    {
     "data": {
      "text/plain": [
       "{'0.5 GB RAM',\n",
       " '1 GB RAM',\n",
       " '1.5 GB RAM',\n",
       " '12 GB RAM',\n",
       " '16 GB RAM',\n",
       " '2 GB RAM',\n",
       " '3 GB RAM',\n",
       " '4 GB RAM',\n",
       " '6 GB RAM',\n",
       " '8 GB RAM'}"
      ]
     },
     "execution_count": 48,
     "metadata": {},
     "output_type": "execute_result"
    }
   ],
   "source": [
    "set(data[\"RAM\"])"
   ]
  },
  {
   "cell_type": "code",
   "execution_count": 50,
   "id": "861b6a36-c065-4a0b-afaa-5456b6aaa1f2",
   "metadata": {
    "tags": []
   },
   "outputs": [],
   "source": [
    "data[\"RAM\"]= data['RAM'].str.replace(' GB RAM','')"
   ]
  },
  {
   "cell_type": "code",
   "execution_count": 51,
   "id": "f28d3e80-d424-4cce-acdb-947997575077",
   "metadata": {
    "tags": []
   },
   "outputs": [],
   "source": [
    "data[\"RAM\"] = data[\"RAM\"].astype('float')"
   ]
  },
  {
   "cell_type": "code",
   "execution_count": 52,
   "id": "31341266-46a8-4bfb-9687-fe9b8046bfb2",
   "metadata": {
    "tags": []
   },
   "outputs": [
    {
     "data": {
      "text/html": [
       "<div>\n",
       "<style scoped>\n",
       "    .dataframe tbody tr th:only-of-type {\n",
       "        vertical-align: middle;\n",
       "    }\n",
       "\n",
       "    .dataframe tbody tr th {\n",
       "        vertical-align: top;\n",
       "    }\n",
       "\n",
       "    .dataframe thead th {\n",
       "        text-align: right;\n",
       "    }\n",
       "</style>\n",
       "<table border=\"1\" class=\"dataframe\">\n",
       "  <thead>\n",
       "    <tr style=\"text-align: right;\">\n",
       "      <th></th>\n",
       "      <th>Rating ?/5</th>\n",
       "      <th>Number of Ratings</th>\n",
       "      <th>RAM</th>\n",
       "      <th>ROM/Storage</th>\n",
       "      <th>Back/Rare Camera</th>\n",
       "      <th>Front Camera</th>\n",
       "      <th>Battery</th>\n",
       "      <th>Processor</th>\n",
       "      <th>Price in INR</th>\n",
       "    </tr>\n",
       "  </thead>\n",
       "  <tbody>\n",
       "    <tr>\n",
       "      <th>0</th>\n",
       "      <td>4.2</td>\n",
       "      <td>33,561</td>\n",
       "      <td>2.0</td>\n",
       "      <td>32</td>\n",
       "      <td>144</td>\n",
       "      <td>26</td>\n",
       "      <td>5000</td>\n",
       "      <td>116</td>\n",
       "      <td>5649.0</td>\n",
       "    </tr>\n",
       "    <tr>\n",
       "      <th>1</th>\n",
       "      <td>4.2</td>\n",
       "      <td>77,128</td>\n",
       "      <td>4.0</td>\n",
       "      <td>64</td>\n",
       "      <td>99</td>\n",
       "      <td>31</td>\n",
       "      <td>5000</td>\n",
       "      <td>102</td>\n",
       "      <td>11999.0</td>\n",
       "    </tr>\n",
       "    <tr>\n",
       "      <th>2</th>\n",
       "      <td>4.3</td>\n",
       "      <td>15,175</td>\n",
       "      <td>4.0</td>\n",
       "      <td>64</td>\n",
       "      <td>145</td>\n",
       "      <td>26</td>\n",
       "      <td>5000</td>\n",
       "      <td>40</td>\n",
       "      <td>6999.0</td>\n",
       "    </tr>\n",
       "    <tr>\n",
       "      <th>3</th>\n",
       "      <td>4.2</td>\n",
       "      <td>22,621</td>\n",
       "      <td>4.0</td>\n",
       "      <td>64</td>\n",
       "      <td>118</td>\n",
       "      <td>26</td>\n",
       "      <td>5000</td>\n",
       "      <td>122</td>\n",
       "      <td>7749.0</td>\n",
       "    </tr>\n",
       "    <tr>\n",
       "      <th>4</th>\n",
       "      <td>4.3</td>\n",
       "      <td>15,175</td>\n",
       "      <td>4.0</td>\n",
       "      <td>64</td>\n",
       "      <td>145</td>\n",
       "      <td>26</td>\n",
       "      <td>5000</td>\n",
       "      <td>40</td>\n",
       "      <td>6999.0</td>\n",
       "    </tr>\n",
       "    <tr>\n",
       "      <th>...</th>\n",
       "      <td>...</td>\n",
       "      <td>...</td>\n",
       "      <td>...</td>\n",
       "      <td>...</td>\n",
       "      <td>...</td>\n",
       "      <td>...</td>\n",
       "      <td>...</td>\n",
       "      <td>...</td>\n",
       "      <td>...</td>\n",
       "    </tr>\n",
       "    <tr>\n",
       "      <th>1831</th>\n",
       "      <td>4.3</td>\n",
       "      <td>25,582</td>\n",
       "      <td>4.0</td>\n",
       "      <td>64</td>\n",
       "      <td>69</td>\n",
       "      <td>12</td>\n",
       "      <td>5000</td>\n",
       "      <td>75</td>\n",
       "      <td>14999.0</td>\n",
       "    </tr>\n",
       "    <tr>\n",
       "      <th>1832</th>\n",
       "      <td>4.3</td>\n",
       "      <td>25,582</td>\n",
       "      <td>4.0</td>\n",
       "      <td>64</td>\n",
       "      <td>69</td>\n",
       "      <td>12</td>\n",
       "      <td>5000</td>\n",
       "      <td>75</td>\n",
       "      <td>14999.0</td>\n",
       "    </tr>\n",
       "    <tr>\n",
       "      <th>1833</th>\n",
       "      <td>4.3</td>\n",
       "      <td>25,582</td>\n",
       "      <td>4.0</td>\n",
       "      <td>64</td>\n",
       "      <td>69</td>\n",
       "      <td>12</td>\n",
       "      <td>5000</td>\n",
       "      <td>75</td>\n",
       "      <td>14999.0</td>\n",
       "    </tr>\n",
       "    <tr>\n",
       "      <th>1834</th>\n",
       "      <td>4.2</td>\n",
       "      <td>7,117</td>\n",
       "      <td>8.0</td>\n",
       "      <td>128</td>\n",
       "      <td>77</td>\n",
       "      <td>10</td>\n",
       "      <td>4500</td>\n",
       "      <td>80</td>\n",
       "      <td>18999.0</td>\n",
       "    </tr>\n",
       "    <tr>\n",
       "      <th>1835</th>\n",
       "      <td>4.3</td>\n",
       "      <td>15,701</td>\n",
       "      <td>4.0</td>\n",
       "      <td>64</td>\n",
       "      <td>50</td>\n",
       "      <td>20</td>\n",
       "      <td>4000</td>\n",
       "      <td>43</td>\n",
       "      <td>10999.0</td>\n",
       "    </tr>\n",
       "  </tbody>\n",
       "</table>\n",
       "<p>1291 rows × 9 columns</p>\n",
       "</div>"
      ],
      "text/plain": [
       "      Rating ?/5 Number of Ratings  RAM  ROM/Storage  Back/Rare Camera  \\\n",
       "0            4.2            33,561  2.0           32               144   \n",
       "1            4.2            77,128  4.0           64                99   \n",
       "2            4.3            15,175  4.0           64               145   \n",
       "3            4.2            22,621  4.0           64               118   \n",
       "4            4.3            15,175  4.0           64               145   \n",
       "...          ...               ...  ...          ...               ...   \n",
       "1831         4.3            25,582  4.0           64                69   \n",
       "1832         4.3            25,582  4.0           64                69   \n",
       "1833         4.3            25,582  4.0           64                69   \n",
       "1834         4.2             7,117  8.0          128                77   \n",
       "1835         4.3            15,701  4.0           64                50   \n",
       "\n",
       "      Front Camera  Battery  Processor  Price in INR  \n",
       "0               26     5000        116        5649.0  \n",
       "1               31     5000        102       11999.0  \n",
       "2               26     5000         40        6999.0  \n",
       "3               26     5000        122        7749.0  \n",
       "4               26     5000         40        6999.0  \n",
       "...            ...      ...        ...           ...  \n",
       "1831            12     5000         75       14999.0  \n",
       "1832            12     5000         75       14999.0  \n",
       "1833            12     5000         75       14999.0  \n",
       "1834            10     4500         80       18999.0  \n",
       "1835            20     4000         43       10999.0  \n",
       "\n",
       "[1291 rows x 9 columns]"
      ]
     },
     "execution_count": 52,
     "metadata": {},
     "output_type": "execute_result"
    }
   ],
   "source": [
    "data"
   ]
  },
  {
   "cell_type": "code",
   "execution_count": 53,
   "id": "1230ad46-1e89-4d37-b8e7-829bf17ea6d2",
   "metadata": {
    "tags": []
   },
   "outputs": [],
   "source": [
    "data[\"Number of Ratings\"]= data['Number of Ratings'].str.replace(',','')"
   ]
  },
  {
   "cell_type": "code",
   "execution_count": 55,
   "id": "8cf3daef-f830-49b8-9f4f-0efb54b24720",
   "metadata": {
    "tags": []
   },
   "outputs": [
    {
     "data": {
      "text/html": [
       "<div>\n",
       "<style scoped>\n",
       "    .dataframe tbody tr th:only-of-type {\n",
       "        vertical-align: middle;\n",
       "    }\n",
       "\n",
       "    .dataframe tbody tr th {\n",
       "        vertical-align: top;\n",
       "    }\n",
       "\n",
       "    .dataframe thead th {\n",
       "        text-align: right;\n",
       "    }\n",
       "</style>\n",
       "<table border=\"1\" class=\"dataframe\">\n",
       "  <thead>\n",
       "    <tr style=\"text-align: right;\">\n",
       "      <th></th>\n",
       "      <th>Rating ?/5</th>\n",
       "      <th>Number of Ratings</th>\n",
       "      <th>RAM</th>\n",
       "      <th>ROM/Storage</th>\n",
       "      <th>Back/Rare Camera</th>\n",
       "      <th>Front Camera</th>\n",
       "      <th>Battery</th>\n",
       "      <th>Processor</th>\n",
       "      <th>Price in INR</th>\n",
       "    </tr>\n",
       "  </thead>\n",
       "  <tbody>\n",
       "    <tr>\n",
       "      <th>0</th>\n",
       "      <td>4.2</td>\n",
       "      <td>33561</td>\n",
       "      <td>2.0</td>\n",
       "      <td>32</td>\n",
       "      <td>144</td>\n",
       "      <td>26</td>\n",
       "      <td>5000</td>\n",
       "      <td>116</td>\n",
       "      <td>5649.0</td>\n",
       "    </tr>\n",
       "    <tr>\n",
       "      <th>1</th>\n",
       "      <td>4.2</td>\n",
       "      <td>77128</td>\n",
       "      <td>4.0</td>\n",
       "      <td>64</td>\n",
       "      <td>99</td>\n",
       "      <td>31</td>\n",
       "      <td>5000</td>\n",
       "      <td>102</td>\n",
       "      <td>11999.0</td>\n",
       "    </tr>\n",
       "    <tr>\n",
       "      <th>2</th>\n",
       "      <td>4.3</td>\n",
       "      <td>15175</td>\n",
       "      <td>4.0</td>\n",
       "      <td>64</td>\n",
       "      <td>145</td>\n",
       "      <td>26</td>\n",
       "      <td>5000</td>\n",
       "      <td>40</td>\n",
       "      <td>6999.0</td>\n",
       "    </tr>\n",
       "    <tr>\n",
       "      <th>3</th>\n",
       "      <td>4.2</td>\n",
       "      <td>22621</td>\n",
       "      <td>4.0</td>\n",
       "      <td>64</td>\n",
       "      <td>118</td>\n",
       "      <td>26</td>\n",
       "      <td>5000</td>\n",
       "      <td>122</td>\n",
       "      <td>7749.0</td>\n",
       "    </tr>\n",
       "    <tr>\n",
       "      <th>4</th>\n",
       "      <td>4.3</td>\n",
       "      <td>15175</td>\n",
       "      <td>4.0</td>\n",
       "      <td>64</td>\n",
       "      <td>145</td>\n",
       "      <td>26</td>\n",
       "      <td>5000</td>\n",
       "      <td>40</td>\n",
       "      <td>6999.0</td>\n",
       "    </tr>\n",
       "    <tr>\n",
       "      <th>...</th>\n",
       "      <td>...</td>\n",
       "      <td>...</td>\n",
       "      <td>...</td>\n",
       "      <td>...</td>\n",
       "      <td>...</td>\n",
       "      <td>...</td>\n",
       "      <td>...</td>\n",
       "      <td>...</td>\n",
       "      <td>...</td>\n",
       "    </tr>\n",
       "    <tr>\n",
       "      <th>1831</th>\n",
       "      <td>4.3</td>\n",
       "      <td>25582</td>\n",
       "      <td>4.0</td>\n",
       "      <td>64</td>\n",
       "      <td>69</td>\n",
       "      <td>12</td>\n",
       "      <td>5000</td>\n",
       "      <td>75</td>\n",
       "      <td>14999.0</td>\n",
       "    </tr>\n",
       "    <tr>\n",
       "      <th>1832</th>\n",
       "      <td>4.3</td>\n",
       "      <td>25582</td>\n",
       "      <td>4.0</td>\n",
       "      <td>64</td>\n",
       "      <td>69</td>\n",
       "      <td>12</td>\n",
       "      <td>5000</td>\n",
       "      <td>75</td>\n",
       "      <td>14999.0</td>\n",
       "    </tr>\n",
       "    <tr>\n",
       "      <th>1833</th>\n",
       "      <td>4.3</td>\n",
       "      <td>25582</td>\n",
       "      <td>4.0</td>\n",
       "      <td>64</td>\n",
       "      <td>69</td>\n",
       "      <td>12</td>\n",
       "      <td>5000</td>\n",
       "      <td>75</td>\n",
       "      <td>14999.0</td>\n",
       "    </tr>\n",
       "    <tr>\n",
       "      <th>1834</th>\n",
       "      <td>4.2</td>\n",
       "      <td>7117</td>\n",
       "      <td>8.0</td>\n",
       "      <td>128</td>\n",
       "      <td>77</td>\n",
       "      <td>10</td>\n",
       "      <td>4500</td>\n",
       "      <td>80</td>\n",
       "      <td>18999.0</td>\n",
       "    </tr>\n",
       "    <tr>\n",
       "      <th>1835</th>\n",
       "      <td>4.3</td>\n",
       "      <td>15701</td>\n",
       "      <td>4.0</td>\n",
       "      <td>64</td>\n",
       "      <td>50</td>\n",
       "      <td>20</td>\n",
       "      <td>4000</td>\n",
       "      <td>43</td>\n",
       "      <td>10999.0</td>\n",
       "    </tr>\n",
       "  </tbody>\n",
       "</table>\n",
       "<p>1291 rows × 9 columns</p>\n",
       "</div>"
      ],
      "text/plain": [
       "      Rating ?/5  Number of Ratings  RAM  ROM/Storage  Back/Rare Camera  \\\n",
       "0            4.2              33561  2.0           32               144   \n",
       "1            4.2              77128  4.0           64                99   \n",
       "2            4.3              15175  4.0           64               145   \n",
       "3            4.2              22621  4.0           64               118   \n",
       "4            4.3              15175  4.0           64               145   \n",
       "...          ...                ...  ...          ...               ...   \n",
       "1831         4.3              25582  4.0           64                69   \n",
       "1832         4.3              25582  4.0           64                69   \n",
       "1833         4.3              25582  4.0           64                69   \n",
       "1834         4.2               7117  8.0          128                77   \n",
       "1835         4.3              15701  4.0           64                50   \n",
       "\n",
       "      Front Camera  Battery  Processor  Price in INR  \n",
       "0               26     5000        116        5649.0  \n",
       "1               31     5000        102       11999.0  \n",
       "2               26     5000         40        6999.0  \n",
       "3               26     5000        122        7749.0  \n",
       "4               26     5000         40        6999.0  \n",
       "...            ...      ...        ...           ...  \n",
       "1831            12     5000         75       14999.0  \n",
       "1832            12     5000         75       14999.0  \n",
       "1833            12     5000         75       14999.0  \n",
       "1834            10     4500         80       18999.0  \n",
       "1835            20     4000         43       10999.0  \n",
       "\n",
       "[1291 rows x 9 columns]"
      ]
     },
     "execution_count": 55,
     "metadata": {},
     "output_type": "execute_result"
    }
   ],
   "source": [
    "data[\"Number of Ratings\"]= data['Number of Ratings'].astype('int')\n",
    "data"
   ]
  },
  {
   "cell_type": "code",
   "execution_count": 56,
   "id": "d4c93231-ae5a-42ac-a740-5b23834b918f",
   "metadata": {
    "tags": []
   },
   "outputs": [
    {
     "data": {
      "text/html": [
       "<div>\n",
       "<style scoped>\n",
       "    .dataframe tbody tr th:only-of-type {\n",
       "        vertical-align: middle;\n",
       "    }\n",
       "\n",
       "    .dataframe tbody tr th {\n",
       "        vertical-align: top;\n",
       "    }\n",
       "\n",
       "    .dataframe thead th {\n",
       "        text-align: right;\n",
       "    }\n",
       "</style>\n",
       "<table border=\"1\" class=\"dataframe\">\n",
       "  <thead>\n",
       "    <tr style=\"text-align: right;\">\n",
       "      <th></th>\n",
       "      <th>Rating ?/5</th>\n",
       "      <th>Number of Ratings</th>\n",
       "      <th>RAM</th>\n",
       "      <th>ROM/Storage</th>\n",
       "      <th>Back/Rare Camera</th>\n",
       "      <th>Front Camera</th>\n",
       "      <th>Battery</th>\n",
       "      <th>Processor</th>\n",
       "      <th>Price in INR</th>\n",
       "    </tr>\n",
       "  </thead>\n",
       "  <tbody>\n",
       "    <tr>\n",
       "      <th>0</th>\n",
       "      <td>4.2</td>\n",
       "      <td>33561</td>\n",
       "      <td>2.0</td>\n",
       "      <td>32</td>\n",
       "      <td>144</td>\n",
       "      <td>26</td>\n",
       "      <td>5000</td>\n",
       "      <td>116</td>\n",
       "      <td>5649.0</td>\n",
       "    </tr>\n",
       "    <tr>\n",
       "      <th>1</th>\n",
       "      <td>4.2</td>\n",
       "      <td>77128</td>\n",
       "      <td>4.0</td>\n",
       "      <td>64</td>\n",
       "      <td>99</td>\n",
       "      <td>31</td>\n",
       "      <td>5000</td>\n",
       "      <td>102</td>\n",
       "      <td>11999.0</td>\n",
       "    </tr>\n",
       "    <tr>\n",
       "      <th>2</th>\n",
       "      <td>4.3</td>\n",
       "      <td>15175</td>\n",
       "      <td>4.0</td>\n",
       "      <td>64</td>\n",
       "      <td>145</td>\n",
       "      <td>26</td>\n",
       "      <td>5000</td>\n",
       "      <td>40</td>\n",
       "      <td>6999.0</td>\n",
       "    </tr>\n",
       "    <tr>\n",
       "      <th>3</th>\n",
       "      <td>4.2</td>\n",
       "      <td>22621</td>\n",
       "      <td>4.0</td>\n",
       "      <td>64</td>\n",
       "      <td>118</td>\n",
       "      <td>26</td>\n",
       "      <td>5000</td>\n",
       "      <td>122</td>\n",
       "      <td>7749.0</td>\n",
       "    </tr>\n",
       "    <tr>\n",
       "      <th>4</th>\n",
       "      <td>4.3</td>\n",
       "      <td>15175</td>\n",
       "      <td>4.0</td>\n",
       "      <td>64</td>\n",
       "      <td>145</td>\n",
       "      <td>26</td>\n",
       "      <td>5000</td>\n",
       "      <td>40</td>\n",
       "      <td>6999.0</td>\n",
       "    </tr>\n",
       "    <tr>\n",
       "      <th>...</th>\n",
       "      <td>...</td>\n",
       "      <td>...</td>\n",
       "      <td>...</td>\n",
       "      <td>...</td>\n",
       "      <td>...</td>\n",
       "      <td>...</td>\n",
       "      <td>...</td>\n",
       "      <td>...</td>\n",
       "      <td>...</td>\n",
       "    </tr>\n",
       "    <tr>\n",
       "      <th>1831</th>\n",
       "      <td>4.3</td>\n",
       "      <td>25582</td>\n",
       "      <td>4.0</td>\n",
       "      <td>64</td>\n",
       "      <td>69</td>\n",
       "      <td>12</td>\n",
       "      <td>5000</td>\n",
       "      <td>75</td>\n",
       "      <td>14999.0</td>\n",
       "    </tr>\n",
       "    <tr>\n",
       "      <th>1832</th>\n",
       "      <td>4.3</td>\n",
       "      <td>25582</td>\n",
       "      <td>4.0</td>\n",
       "      <td>64</td>\n",
       "      <td>69</td>\n",
       "      <td>12</td>\n",
       "      <td>5000</td>\n",
       "      <td>75</td>\n",
       "      <td>14999.0</td>\n",
       "    </tr>\n",
       "    <tr>\n",
       "      <th>1833</th>\n",
       "      <td>4.3</td>\n",
       "      <td>25582</td>\n",
       "      <td>4.0</td>\n",
       "      <td>64</td>\n",
       "      <td>69</td>\n",
       "      <td>12</td>\n",
       "      <td>5000</td>\n",
       "      <td>75</td>\n",
       "      <td>14999.0</td>\n",
       "    </tr>\n",
       "    <tr>\n",
       "      <th>1834</th>\n",
       "      <td>4.2</td>\n",
       "      <td>7117</td>\n",
       "      <td>8.0</td>\n",
       "      <td>128</td>\n",
       "      <td>77</td>\n",
       "      <td>10</td>\n",
       "      <td>4500</td>\n",
       "      <td>80</td>\n",
       "      <td>18999.0</td>\n",
       "    </tr>\n",
       "    <tr>\n",
       "      <th>1835</th>\n",
       "      <td>4.3</td>\n",
       "      <td>15701</td>\n",
       "      <td>4.0</td>\n",
       "      <td>64</td>\n",
       "      <td>50</td>\n",
       "      <td>20</td>\n",
       "      <td>4000</td>\n",
       "      <td>43</td>\n",
       "      <td>10999.0</td>\n",
       "    </tr>\n",
       "  </tbody>\n",
       "</table>\n",
       "<p>1291 rows × 9 columns</p>\n",
       "</div>"
      ],
      "text/plain": [
       "      Rating ?/5  Number of Ratings  RAM  ROM/Storage  Back/Rare Camera  \\\n",
       "0            4.2              33561  2.0           32               144   \n",
       "1            4.2              77128  4.0           64                99   \n",
       "2            4.3              15175  4.0           64               145   \n",
       "3            4.2              22621  4.0           64               118   \n",
       "4            4.3              15175  4.0           64               145   \n",
       "...          ...                ...  ...          ...               ...   \n",
       "1831         4.3              25582  4.0           64                69   \n",
       "1832         4.3              25582  4.0           64                69   \n",
       "1833         4.3              25582  4.0           64                69   \n",
       "1834         4.2               7117  8.0          128                77   \n",
       "1835         4.3              15701  4.0           64                50   \n",
       "\n",
       "      Front Camera  Battery  Processor  Price in INR  \n",
       "0               26     5000        116        5649.0  \n",
       "1               31     5000        102       11999.0  \n",
       "2               26     5000         40        6999.0  \n",
       "3               26     5000        122        7749.0  \n",
       "4               26     5000         40        6999.0  \n",
       "...            ...      ...        ...           ...  \n",
       "1831            12     5000         75       14999.0  \n",
       "1832            12     5000         75       14999.0  \n",
       "1833            12     5000         75       14999.0  \n",
       "1834            10     4500         80       18999.0  \n",
       "1835            20     4000         43       10999.0  \n",
       "\n",
       "[1291 rows x 9 columns]"
      ]
     },
     "execution_count": 56,
     "metadata": {},
     "output_type": "execute_result"
    }
   ],
   "source": [
    "data[\"Rating ?/5\"]= data['Rating ?/5'].astype('float')\n",
    "data"
   ]
  },
  {
   "cell_type": "code",
   "execution_count": 59,
   "id": "9d6efa3b-da1f-428a-a86d-e979d99bd8f1",
   "metadata": {
    "tags": []
   },
   "outputs": [
    {
     "data": {
      "text/plain": [
       "Index(['Rating ?/5', 'Number of Ratings', 'RAM', 'ROM/Storage',\n",
       "       'Back/Rare Camera', 'Front Camera', 'Battery', 'Processor',\n",
       "       'Price in INR'],\n",
       "      dtype='object')"
      ]
     },
     "execution_count": 59,
     "metadata": {},
     "output_type": "execute_result"
    }
   ],
   "source": [
    "data.columns"
   ]
  },
  {
   "cell_type": "code",
   "execution_count": 60,
   "id": "d3b81dff-4403-4d80-9efd-51451760d56f",
   "metadata": {
    "tags": []
   },
   "outputs": [],
   "source": [
    "X = data[['Rating ?/5', 'Number of Ratings', 'RAM', 'ROM/Storage',\n",
    "       'Back/Rare Camera', 'Front Camera', 'Battery', 'Processor']]"
   ]
  },
  {
   "cell_type": "code",
   "execution_count": 61,
   "id": "d1ab1f84-badf-4a4b-831e-be0e52b6085e",
   "metadata": {
    "tags": []
   },
   "outputs": [],
   "source": [
    "y = data['Price in INR']"
   ]
  },
  {
   "cell_type": "code",
   "execution_count": 57,
   "id": "a482f586-6dd5-43b2-8837-6326bdd7f219",
   "metadata": {
    "tags": []
   },
   "outputs": [],
   "source": [
    "from sklearn.feature_selection import mutual_info_regression"
   ]
  },
  {
   "cell_type": "code",
   "execution_count": 62,
   "id": "67798fdf-dd65-40d1-a130-6e78cb5b80b3",
   "metadata": {
    "tags": []
   },
   "outputs": [],
   "source": [
    "mir = mutual_info_regression(X,y)"
   ]
  },
  {
   "cell_type": "code",
   "execution_count": 63,
   "id": "9a7798b9-e8d4-4c5b-88ce-9a2459b7b01d",
   "metadata": {
    "tags": []
   },
   "outputs": [
    {
     "data": {
      "text/plain": [
       "array([0.31698594, 0.98350538, 0.71110702, 0.56783384, 1.07192927,\n",
       "       0.72381643, 0.56636501, 1.11162532])"
      ]
     },
     "execution_count": 63,
     "metadata": {},
     "output_type": "execute_result"
    }
   ],
   "source": [
    "mir"
   ]
  },
  {
   "cell_type": "code",
   "execution_count": 64,
   "id": "e3eb4744-19ac-4108-af74-9fac3092b977",
   "metadata": {
    "tags": []
   },
   "outputs": [],
   "source": [
    "mir_series = pd.Series(mir)"
   ]
  },
  {
   "cell_type": "code",
   "execution_count": 65,
   "id": "8775e65f-7d6d-47bc-860c-5258509edb3e",
   "metadata": {
    "tags": []
   },
   "outputs": [
    {
     "data": {
      "text/plain": [
       "0    0.316986\n",
       "1    0.983505\n",
       "2    0.711107\n",
       "3    0.567834\n",
       "4    1.071929\n",
       "5    0.723816\n",
       "6    0.566365\n",
       "7    1.111625\n",
       "dtype: float64"
      ]
     },
     "execution_count": 65,
     "metadata": {},
     "output_type": "execute_result"
    }
   ],
   "source": [
    "mir_series"
   ]
  },
  {
   "cell_type": "code",
   "execution_count": 66,
   "id": "85f873f7-ae97-4325-b5e8-85fb6cc4fabb",
   "metadata": {
    "tags": []
   },
   "outputs": [],
   "source": [
    "mir_series.index=X.columns"
   ]
  },
  {
   "cell_type": "code",
   "execution_count": 67,
   "id": "f6a35c5a-10c7-4416-9668-d76310611d89",
   "metadata": {
    "tags": []
   },
   "outputs": [
    {
     "data": {
      "text/plain": [
       "Rating ?/5           0.316986\n",
       "Number of Ratings    0.983505\n",
       "RAM                  0.711107\n",
       "ROM/Storage          0.567834\n",
       "Back/Rare Camera     1.071929\n",
       "Front Camera         0.723816\n",
       "Battery              0.566365\n",
       "Processor            1.111625\n",
       "dtype: float64"
      ]
     },
     "execution_count": 67,
     "metadata": {},
     "output_type": "execute_result"
    }
   ],
   "source": [
    "mir_series"
   ]
  },
  {
   "cell_type": "code",
   "execution_count": 76,
   "id": "4d824aa0-9c6a-4fd0-81b8-67f4552faa3f",
   "metadata": {
    "tags": []
   },
   "outputs": [
    {
     "data": {
      "text/plain": [
       "Processor            1.111625\n",
       "Back/Rare Camera     1.071929\n",
       "Number of Ratings    0.983505\n",
       "Front Camera         0.723816\n",
       "RAM                  0.711107\n",
       "ROM/Storage          0.567834\n",
       "Battery              0.566365\n",
       "Rating ?/5           0.316986\n",
       "dtype: float64"
      ]
     },
     "execution_count": 76,
     "metadata": {},
     "output_type": "execute_result"
    }
   ],
   "source": [
    "mir_series=mir_series.sort_values(ascending = False)\n",
    "mir_series"
   ]
  },
  {
   "cell_type": "code",
   "execution_count": 74,
   "id": "4f1c3964-b9d4-4fea-9c84-8dd83a304d12",
   "metadata": {
    "tags": []
   },
   "outputs": [],
   "source": [
    "import seaborn as sns\n",
    "import matplotlib.pyplot as plt"
   ]
  },
  {
   "cell_type": "code",
   "execution_count": 75,
   "id": "22b7be33-b8f3-4fa9-a81b-b76399a8c22b",
   "metadata": {
    "tags": []
   },
   "outputs": [
    {
     "data": {
      "text/plain": [
       "Text(0.5, 1.0, 'Mutual Information Regression')"
      ]
     },
     "execution_count": 75,
     "metadata": {},
     "output_type": "execute_result"
    },
    {
     "data": {
      "image/png": "[encoded data removed]",
      "text/plain": [
       "<Figure size 640x480 with 1 Axes>"
      ]
     },
     "metadata": {},
     "output_type": "display_data"
    }
   ],
   "source": [
    "sns.barplot(x=mir_series.index,y=mir_series.values)\n",
    "plt.xticks(rotation = 65)\n",
    "plt.xlabel(\"Features\")\n",
    "plt.ylabel(\"MIR Score\")\n",
    "plt.title(\"Mutual Information Regression\")"
   ]
  },
  {
   "cell_type": "code",
   "execution_count": null,
   "id": "ba38f6d2-57ce-4bb7-9d86-cbe73c326751",
   "metadata": {},
   "outputs": [],
   "source": []
  }
 ],
 "metadata": {
  "kernelspec": {
   "display_name": "Python 3 (ipykernel)",
   "language": "python",
   "name": "python3"
  },
  "language_info": {
   "codemirror_mode": {
    "name": "ipython",
    "version": 3
   },
   "file_extension": ".py",
   "mimetype": "text/x-python",
   "name": "python",
   "nbconvert_exporter": "python",
   "pygments_lexer": "ipython3",
   "version": "3.11.3"
  },
  "widgets": {
   "application/vnd.jupyter.widget-state+json": {
    "state": {},
    "version_major": 2,
    "version_minor": 0
   }
  }
 },
 "nbformat": 4,
 "nbformat_minor": 5
}
